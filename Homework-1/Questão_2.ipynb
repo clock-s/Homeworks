{
  "nbformat": 4,
  "nbformat_minor": 0,
  "metadata": {
    "colab": {
      "provenance": [],
      "authorship_tag": "ABX9TyOxF6zJERijls5rlNACEwtR",
      "include_colab_link": true
    },
    "kernelspec": {
      "name": "ir",
      "display_name": "R"
    },
    "language_info": {
      "name": "R"
    }
  },
  "cells": [
    {
      "cell_type": "markdown",
      "metadata": {
        "id": "view-in-github",
        "colab_type": "text"
      },
      "source": [
        "<a href=\"https://colab.research.google.com/github/clock-s/Homeworks/blob/main/Homework-1/Quest%C3%A3o_2.ipynb\" target=\"_parent\"><img src=\"https://colab.research.google.com/assets/colab-badge.svg\" alt=\"Open In Colab\"/></a>"
      ]
    },
    {
      "cell_type": "code",
      "execution_count": 34,
      "metadata": {
        "colab": {
          "base_uri": "https://localhost:8080/",
          "height": 484
        },
        "id": "emRReCTo4eQ2",
        "outputId": "e09becb0-a50c-46ed-b255-08d3e3603172"
      },
      "outputs": [
        {
          "output_type": "stream",
          "name": "stderr",
          "text": [
            "Installing package into ‘/usr/local/lib/R/site-library’\n",
            "(as ‘lib’ is unspecified)\n",
            "\n",
            "Installing package into ‘/usr/local/lib/R/site-library’\n",
            "(as ‘lib’ is unspecified)\n",
            "\n",
            "Installing package into ‘/usr/local/lib/R/site-library’\n",
            "(as ‘lib’ is unspecified)\n",
            "\n",
            "Installing package into ‘/usr/local/lib/R/site-library’\n",
            "(as ‘lib’ is unspecified)\n",
            "\n",
            "Installing package into ‘/usr/local/lib/R/site-library’\n",
            "(as ‘lib’ is unspecified)\n",
            "\n",
            "Warning message:\n",
            "“package ‘hrbrthemes’ is not available for this version of R\n",
            "\n",
            "A version of this package for your version of R might be available elsewhere,\n",
            "see the ideas at\n",
            "https://cran.r-project.org/doc/manuals/r-patched/R-admin.html#Installing-packages”\n"
          ]
        },
        {
          "output_type": "error",
          "ename": "ERROR",
          "evalue": "Error in library(hrbrthemes): there is no package called ‘hrbrthemes’\n",
          "traceback": [
            "Error in library(hrbrthemes): there is no package called ‘hrbrthemes’\nTraceback:\n",
            "1. stop(packageNotFoundError(package, lib.loc, sys.call()))"
          ]
        }
      ],
      "source": [
        "install.packages(\"aplpack\")\n",
        "install.packages(\"qcc\")\n",
        "install.packages(\"ggplot2\")\n",
        "install.packages(\"dplyr\")\n",
        "install.packages(\"hrbrthemes\")\n",
        "\n",
        "library(aplpack)\n",
        "library(qcc)\n",
        "library(ggplot2)\n",
        "library(dplyr)\n",
        "library(hrbrthemes)"
      ]
    },
    {
      "cell_type": "markdown",
      "source": [
        "# **QUESTÃO 2**"
      ],
      "metadata": {
        "id": "ntGQzmau5SJL"
      }
    },
    {
      "cell_type": "code",
      "source": [
        "#Gerando a tabela\n",
        "\n",
        "idade <- c(28, 34, 46, 26, 37, 29, 51, 31, 39, 43, 58, 44, 25, 23, 52, 42, 48, 33, 38, 46)\n",
        "\n",
        "nacionalidade <- c(\"Italiana\", \"Inglesa\", \"Belga\", \"Espanhola\", \"Italiana\", \"Espanhola\",\n",
        "\"Francesa\", \"Belga\", \"Italiana\", \"Italiana\", \"Italiana\", \"Inglesa\", \"Francesa\", \"Espanhola\",\n",
        "\"Italiana\",  \"Alemana\", \"Francesa\", \"Italiana\", \"Alemana\", \"Italiana\")\n",
        "\n",
        "renda <- c(2.3, 1.6, 1.2, 0.9, 2.1, 1.6, 1.8, 1.4, 1.2, 2.8, 3.4, 2.7, 1.6, 1.2, 1.1, 2.5,\n",
        " 2.0, 1.7, 2.1, 3.2)\n",
        "\n",
        " experiencia <- c(2, 8, 21, 1, 15, 3, 28, 5, 13, 20, 32, 23, 1, 0, 29, 18, 19, 7, 12, 23)\n",
        "\n",
        "tabela <- data.frame(Idade= idade, Nacionalidade= nacionalidade, Renda = renda, Experiência = experiencia)\n",
        "\n",
        "#Dessa forma, nos temos a tabela, como também as colunas separamente."
      ],
      "metadata": {
        "id": "VP48AzHF5LKZ"
      },
      "execution_count": 3,
      "outputs": []
    },
    {
      "cell_type": "markdown",
      "source": [
        "## **Parte 1**\n",
        "\n",
        "\n"
      ],
      "metadata": {
        "id": "lLmeE0329NOM"
      }
    },
    {
      "cell_type": "markdown",
      "source": [
        "---\n",
        "Calcule a média, mediana e desvio padrão para as variáveis idade, renda desejada e\n",
        "anos de experiência. O que você pode inferir a partir desses valores sobre o perfi típico dos candidatos\n",
        "\n",
        "\n",
        "---\n",
        "\n",
        "Para descobrirmos a média, somamos todos os valores da coluna e dividimos o resultado pelo número total de amostras.\n",
        "\n",
        "Para descobrir a mediana, ordenaremos os vetores e tiraremos a media entre o 10º e o 11º elementos.\n",
        "\n",
        "Para descobrirmos o desvio padrão faremos a raiz quadrada da media do quadrado da diferença de cada amostra com a media."
      ],
      "metadata": {
        "id": "5T6X_jYkCIgm"
      }
    },
    {
      "cell_type": "code",
      "source": [
        "#Fazendo os cálculos (Nota: deixaremos explicito os cálculo de idade, mas para os outros parametros, o prócesso será o mesmo)\n",
        "\n",
        "#Media\n",
        "idade_media = sum(idade)/length(idade)\n",
        "renda_media = sum(renda)/length(renda)\n",
        "experiencia_media = sum(experiencia)/length(experiencia)\n",
        "\n",
        "\n",
        "\n",
        "\n",
        "\n",
        "#Mediana\n",
        "idade_ordenada = sort(idade) #Função para ordenar os valores do vetor idade\n",
        "idade_mediana = (idade_ordenada[length(idade)%/%2] + idade_ordenada[length(idade)%/%2 + 1])/2\n",
        "\n",
        "renda_ordenada = sort(renda)\n",
        "renda_mediana = (renda_ordenada[length(renda)%/%2] + renda_ordenada[length(renda)%/%2 + 1])/2\n",
        "\n",
        "experiencia_ordenada = sort(experiencia)\n",
        "experiencia_mediana = (experiencia_ordenada[length(experiencia)%/%2] + experiencia_ordenada[length(experiencia)%/%2 + 1])/2\n",
        "\n",
        "\n",
        "#Desvio Padrão\n",
        "idade_desvio_padrao = sqrt(sum((idade-idade_media)**2)/(length(idade)))\n",
        "renda_desvio_padrao = sqrt(sum((renda-renda_media)**2)/(length(renda)))\n",
        "experiencia_desvio_padrao = sqrt(sum((experiencia - experiencia_media)**2)/(length(experiencia)))\n",
        "\n",
        "\n",
        "\n",
        "\n",
        "#Utilizando as funções do R\n",
        "\n",
        "#Media\n",
        "R_idade_media = mean(idade)\n",
        "R_renda_media = mean(renda)\n",
        "R_experiencia_media = mean(experiencia)\n",
        "\n",
        "#Mediana\n",
        "R_idade_mediana = median(idade)\n",
        "R_renda_mediana = median(renda)\n",
        "R_experiencia_mediana = median(experiencia)\n",
        "\n",
        "#Desvio Padrão\n",
        "R_idade_desvio_padrao = sd(idade)\n",
        "R_renda_desvio_padrao = sd(renda)\n",
        "R_experiencia_desvio_padrao = sd(experiencia)\n",
        "\n",
        "cat(\"Resultados:\\n\")\n",
        "cat(\"Operação      Calculados       X       R     \\n\")\n",
        "cat(\"Idade\\n\")\n",
        "cat(\"Media:         \", idade_media,\"              \", R_idade_media, \"\\n\")\n",
        "cat(\"Mediana:       \", idade_mediana,\"               \", R_idade_mediana, \"\\n\")\n",
        "cat(\"Desvio Padrão: \", idade_desvio_padrao,\"            \", R_idade_desvio_padrao, \"\\n\")\n",
        "\n",
        "cat(\"\\nRenda\\n\")\n",
        "cat(\"Media:         \", renda_media,\"               \", R_renda_media, \"\\n\")\n",
        "cat(\"Mediana:       \", renda_mediana,\"               \", R_renda_mediana, \"\\n\")\n",
        "cat(\"Desvio Padrão: \", renda_desvio_padrao,\"          \", R_renda_desvio_padrao, \"\\n\")\n",
        "\n",
        "cat(\"\\nExperiencia\\n\")\n",
        "cat(\"Media:         \", experiencia_media,\"                 \", R_experiencia_media, \"\\n\")\n",
        "cat(\"Mediana:       \", experiencia_mediana,\"                 \", R_experiencia_mediana, \"\\n\")\n",
        "cat(\"Desvio Padrão: \", experiencia_desvio_padrao,\"              \", R_experiencia_desvio_padrao, \"\\n\")\n",
        "\n",
        "\n",
        "\n",
        "\n"
      ],
      "metadata": {
        "colab": {
          "base_uri": "https://localhost:8080/"
        },
        "id": "C9dIW8-X8yn5",
        "outputId": "b71cef78-1d0a-4f0c-c744-991fc07e0858"
      },
      "execution_count": 4,
      "outputs": [
        {
          "output_type": "stream",
          "name": "stdout",
          "text": [
            "Resultados:\n",
            "Operação      Calculados       X       R     \n",
            "Idade\n",
            "Media:          38.65                38.65 \n",
            "Mediana:        38.5                 38.5 \n",
            "Desvio Padrão:  9.67613              9.9275 \n",
            "\n",
            "Renda\n",
            "Media:          1.92                 1.92 \n",
            "Mediana:        1.75                 1.75 \n",
            "Desvio Padrão:  0.6954135            0.7134792 \n",
            "\n",
            "Experiencia\n",
            "Media:          14                   14 \n",
            "Mediana:        14                   14 \n",
            "Desvio Padrão:  10.01                10.27004 \n"
          ]
        }
      ]
    },
    {
      "cell_type": "markdown",
      "source": [
        "### **Divergencias**\n",
        "\n",
        "\n",
        "---\n",
        "\n",
        "A diferença em todos os dados ocorre no desvio padrão, pois enquanto estamos calculando o desvio padrão utilizando a media entre N valores, o R utiliza a coreeção de Bessel, em que se divide pro N-1."
      ],
      "metadata": {
        "id": "NJc_9nSl-sv1"
      }
    },
    {
      "cell_type": "markdown",
      "source": [
        "## **Parte 2**\n",
        "\n"
      ],
      "metadata": {
        "id": "8l5sc9ZMObGT"
      }
    },
    {
      "cell_type": "markdown",
      "source": [
        "\n",
        "---\n",
        "\n",
        "Agrupe os candidatos por nacionalidade e calcule a renda média desejada e os anos\n",
        "médios de experiência para cada grupo. Qual nacionalidade apresenta a maior renda\n",
        "média desejada? Qual grupo aparenta ser o mais experiente?"
      ],
      "metadata": {
        "id": "TDd_anRiCCjq"
      }
    },
    {
      "cell_type": "code",
      "source": [
        "#Separando em Nacionalidades\n",
        "\n",
        "italianos <- filter(tabela, tabela$Nacionalidade == \"Italiana\")\n",
        "ingleses <- filter(tabela, tabela$Nacionalidade == \"Inglesa\")\n",
        "belgas <- filter(tabela, tabela$Nacionalidade == \"Belga\")\n",
        "espanhois <- filter(tabela, tabela$Nacionalidade == \"Espanhola\")\n",
        "franceses <- filter(tabela, tabela$Nacionalidade == \"Francesa\")\n",
        "alemaes <- filter(tabela, tabela$Nacionalidade == \"Alemana\")\n",
        "\n"
      ],
      "metadata": {
        "id": "Fhy1QeNpO2Kt"
      },
      "execution_count": 5,
      "outputs": []
    },
    {
      "cell_type": "markdown",
      "source": [
        "### **Italianos**"
      ],
      "metadata": {
        "id": "LAXSF80p2jH9"
      }
    },
    {
      "cell_type": "code",
      "source": [
        "italianos\n",
        "\n",
        "italianos_renda_media <- sum(italianos$Renda)/length(italianos$Renda)\n",
        "italianos_experiencia_media <- sum(italianos$`Experiência`)/length(italianos$`Experiência`)\n",
        "\n",
        "R_italianos_renda_media <- mean(italianos$Renda)\n",
        "R_italianos_experiencia_media <- mean(italianos$`Experiência`)\n",
        "\n",
        "\n",
        "cat(\"Resultados:\\n\")\n",
        "cat(\"Alvo          Calculados       X       R     \\n\")\n",
        "cat(\"Renda:         \", italianos_renda_media,\"              \", R_italianos_renda_media, \"\\n\")\n",
        "cat(\"Experiencia:   \", italianos_experiencia_media,\"             \", R_italianos_experiencia_media, \"\\n\")\n",
        "\n"
      ],
      "metadata": {
        "colab": {
          "base_uri": "https://localhost:8080/",
          "height": 421
        },
        "id": "8RdQKSID2icj",
        "outputId": "05b0c5eb-6cc0-491c-8195-f3ddd940736c"
      },
      "execution_count": 6,
      "outputs": [
        {
          "output_type": "display_data",
          "data": {
            "text/html": [
              "<table class=\"dataframe\">\n",
              "<caption>A data.frame: 8 × 4</caption>\n",
              "<thead>\n",
              "\t<tr><th scope=col>Idade</th><th scope=col>Nacionalidade</th><th scope=col>Renda</th><th scope=col>Experiência</th></tr>\n",
              "\t<tr><th scope=col>&lt;dbl&gt;</th><th scope=col>&lt;chr&gt;</th><th scope=col>&lt;dbl&gt;</th><th scope=col>&lt;dbl&gt;</th></tr>\n",
              "</thead>\n",
              "<tbody>\n",
              "\t<tr><td>28</td><td>Italiana</td><td>2.3</td><td> 2</td></tr>\n",
              "\t<tr><td>37</td><td>Italiana</td><td>2.1</td><td>15</td></tr>\n",
              "\t<tr><td>39</td><td>Italiana</td><td>1.2</td><td>13</td></tr>\n",
              "\t<tr><td>43</td><td>Italiana</td><td>2.8</td><td>20</td></tr>\n",
              "\t<tr><td>58</td><td>Italiana</td><td>3.4</td><td>32</td></tr>\n",
              "\t<tr><td>52</td><td>Italiana</td><td>1.1</td><td>29</td></tr>\n",
              "\t<tr><td>33</td><td>Italiana</td><td>1.7</td><td> 7</td></tr>\n",
              "\t<tr><td>46</td><td>Italiana</td><td>3.2</td><td>23</td></tr>\n",
              "</tbody>\n",
              "</table>\n"
            ],
            "text/markdown": "\nA data.frame: 8 × 4\n\n| Idade &lt;dbl&gt; | Nacionalidade &lt;chr&gt; | Renda &lt;dbl&gt; | Experiência &lt;dbl&gt; |\n|---|---|---|---|\n| 28 | Italiana | 2.3 |  2 |\n| 37 | Italiana | 2.1 | 15 |\n| 39 | Italiana | 1.2 | 13 |\n| 43 | Italiana | 2.8 | 20 |\n| 58 | Italiana | 3.4 | 32 |\n| 52 | Italiana | 1.1 | 29 |\n| 33 | Italiana | 1.7 |  7 |\n| 46 | Italiana | 3.2 | 23 |\n\n",
            "text/latex": "A data.frame: 8 × 4\n\\begin{tabular}{llll}\n Idade & Nacionalidade & Renda & Experiência\\\\\n <dbl> & <chr> & <dbl> & <dbl>\\\\\n\\hline\n\t 28 & Italiana & 2.3 &  2\\\\\n\t 37 & Italiana & 2.1 & 15\\\\\n\t 39 & Italiana & 1.2 & 13\\\\\n\t 43 & Italiana & 2.8 & 20\\\\\n\t 58 & Italiana & 3.4 & 32\\\\\n\t 52 & Italiana & 1.1 & 29\\\\\n\t 33 & Italiana & 1.7 &  7\\\\\n\t 46 & Italiana & 3.2 & 23\\\\\n\\end{tabular}\n",
            "text/plain": [
              "  Idade Nacionalidade Renda Experiência\n",
              "1 28    Italiana      2.3    2         \n",
              "2 37    Italiana      2.1   15         \n",
              "3 39    Italiana      1.2   13         \n",
              "4 43    Italiana      2.8   20         \n",
              "5 58    Italiana      3.4   32         \n",
              "6 52    Italiana      1.1   29         \n",
              "7 33    Italiana      1.7    7         \n",
              "8 46    Italiana      3.2   23         "
            ]
          },
          "metadata": {}
        },
        {
          "output_type": "stream",
          "name": "stdout",
          "text": [
            "Resultados:\n",
            "Alvo          Calculados       X       R     \n",
            "Renda:          2.225                2.225 \n",
            "Experiencia:    17.625               17.625 \n"
          ]
        }
      ]
    },
    {
      "cell_type": "markdown",
      "source": [
        "### **Ingleses**"
      ],
      "metadata": {
        "id": "qCgH3gKf3iNV"
      }
    },
    {
      "cell_type": "code",
      "source": [
        "ingleses\n",
        "\n",
        "ingleses_renda_media <- sum(ingleses$Renda)/length(ingleses$Renda)\n",
        "ingleses_experiencia_media <- sum(ingleses$`Experiência`)/length(ingleses$`Experiência`)\n",
        "\n",
        "R_ingleses_renda_media <- mean(ingleses$Renda)\n",
        "R_ingleses_experiencia_media <- mean(ingleses$`Experiência`)\n",
        "\n",
        "\n",
        "cat(\"Resultados:\\n\")\n",
        "cat(\"Alvo          Calculados       X       R     \\n\")\n",
        "cat(\"Renda:         \", ingleses_renda_media,\"               \", R_ingleses_renda_media, \"\\n\")\n",
        "cat(\"Experiencia:   \", ingleses_experiencia_media,\"               \", R_ingleses_experiencia_media, \"\\n\")"
      ],
      "metadata": {
        "colab": {
          "base_uri": "https://localhost:8080/",
          "height": 252
        },
        "id": "sIQaQ-2k3k6R",
        "outputId": "364c0134-59b2-47dd-b506-a08365e5831e"
      },
      "execution_count": 7,
      "outputs": [
        {
          "output_type": "display_data",
          "data": {
            "text/html": [
              "<table class=\"dataframe\">\n",
              "<caption>A data.frame: 2 × 4</caption>\n",
              "<thead>\n",
              "\t<tr><th scope=col>Idade</th><th scope=col>Nacionalidade</th><th scope=col>Renda</th><th scope=col>Experiência</th></tr>\n",
              "\t<tr><th scope=col>&lt;dbl&gt;</th><th scope=col>&lt;chr&gt;</th><th scope=col>&lt;dbl&gt;</th><th scope=col>&lt;dbl&gt;</th></tr>\n",
              "</thead>\n",
              "<tbody>\n",
              "\t<tr><td>34</td><td>Inglesa</td><td>1.6</td><td> 8</td></tr>\n",
              "\t<tr><td>44</td><td>Inglesa</td><td>2.7</td><td>23</td></tr>\n",
              "</tbody>\n",
              "</table>\n"
            ],
            "text/markdown": "\nA data.frame: 2 × 4\n\n| Idade &lt;dbl&gt; | Nacionalidade &lt;chr&gt; | Renda &lt;dbl&gt; | Experiência &lt;dbl&gt; |\n|---|---|---|---|\n| 34 | Inglesa | 1.6 |  8 |\n| 44 | Inglesa | 2.7 | 23 |\n\n",
            "text/latex": "A data.frame: 2 × 4\n\\begin{tabular}{llll}\n Idade & Nacionalidade & Renda & Experiência\\\\\n <dbl> & <chr> & <dbl> & <dbl>\\\\\n\\hline\n\t 34 & Inglesa & 1.6 &  8\\\\\n\t 44 & Inglesa & 2.7 & 23\\\\\n\\end{tabular}\n",
            "text/plain": [
              "  Idade Nacionalidade Renda Experiência\n",
              "1 34    Inglesa       1.6    8         \n",
              "2 44    Inglesa       2.7   23         "
            ]
          },
          "metadata": {}
        },
        {
          "output_type": "stream",
          "name": "stdout",
          "text": [
            "Resultados:\n",
            "Alvo          Calculados       X       R     \n",
            "Renda:          2.15                 2.15 \n",
            "Experiencia:    15.5                 15.5 \n"
          ]
        }
      ]
    },
    {
      "cell_type": "markdown",
      "source": [
        "### **Belgas**"
      ],
      "metadata": {
        "id": "-L4bKccZ5SE5"
      }
    },
    {
      "cell_type": "code",
      "source": [
        "belgas\n",
        "\n",
        "belgas_renda_media <- sum(belgas$Renda)/length(belgas$Renda)\n",
        "belgas_experiencia_media <- sum(belgas$`Experiência`)/length(belgas$`Experiência`)\n",
        "\n",
        "R_belgas_renda_media <- mean(belgas$Renda)\n",
        "R_belgas_experiencia_media <- mean(belgas$`Experiência`)\n",
        "\n",
        "\n",
        "cat(\"Resultados:\\n\")\n",
        "cat(\"Alvo          Calculados       X       R     \\n\")\n",
        "cat(\"Renda:         \", belgas_renda_media,\"                 \", R_belgas_renda_media, \"\\n\")\n",
        "cat(\"Experiencia:   \", belgas_experiencia_media,\"                  \", R_belgas_experiencia_media, \"\\n\")"
      ],
      "metadata": {
        "colab": {
          "base_uri": "https://localhost:8080/",
          "height": 252
        },
        "id": "WyGg8dHb5XTL",
        "outputId": "0471be4b-4ea5-4406-a2cd-05c6133583b6"
      },
      "execution_count": 8,
      "outputs": [
        {
          "output_type": "display_data",
          "data": {
            "text/html": [
              "<table class=\"dataframe\">\n",
              "<caption>A data.frame: 2 × 4</caption>\n",
              "<thead>\n",
              "\t<tr><th scope=col>Idade</th><th scope=col>Nacionalidade</th><th scope=col>Renda</th><th scope=col>Experiência</th></tr>\n",
              "\t<tr><th scope=col>&lt;dbl&gt;</th><th scope=col>&lt;chr&gt;</th><th scope=col>&lt;dbl&gt;</th><th scope=col>&lt;dbl&gt;</th></tr>\n",
              "</thead>\n",
              "<tbody>\n",
              "\t<tr><td>46</td><td>Belga</td><td>1.2</td><td>21</td></tr>\n",
              "\t<tr><td>31</td><td>Belga</td><td>1.4</td><td> 5</td></tr>\n",
              "</tbody>\n",
              "</table>\n"
            ],
            "text/markdown": "\nA data.frame: 2 × 4\n\n| Idade &lt;dbl&gt; | Nacionalidade &lt;chr&gt; | Renda &lt;dbl&gt; | Experiência &lt;dbl&gt; |\n|---|---|---|---|\n| 46 | Belga | 1.2 | 21 |\n| 31 | Belga | 1.4 |  5 |\n\n",
            "text/latex": "A data.frame: 2 × 4\n\\begin{tabular}{llll}\n Idade & Nacionalidade & Renda & Experiência\\\\\n <dbl> & <chr> & <dbl> & <dbl>\\\\\n\\hline\n\t 46 & Belga & 1.2 & 21\\\\\n\t 31 & Belga & 1.4 &  5\\\\\n\\end{tabular}\n",
            "text/plain": [
              "  Idade Nacionalidade Renda Experiência\n",
              "1 46    Belga         1.2   21         \n",
              "2 31    Belga         1.4    5         "
            ]
          },
          "metadata": {}
        },
        {
          "output_type": "stream",
          "name": "stdout",
          "text": [
            "Resultados:\n",
            "Alvo          Calculados       X       R     \n",
            "Renda:          1.3                   1.3 \n",
            "Experiencia:    13                    13 \n"
          ]
        }
      ]
    },
    {
      "cell_type": "markdown",
      "source": [
        "### **Espanhois**"
      ],
      "metadata": {
        "id": "0NePfMCK5vOC"
      }
    },
    {
      "cell_type": "code",
      "source": [
        "espanhois\n",
        "\n",
        "espanhois_renda_media <- sum(espanhois$Renda)/length(espanhois$Renda)\n",
        "espanhois_experiencia_media <- sum(espanhois$`Experiência`)/length(espanhois$`Experiência`)\n",
        "\n",
        "R_espanhois_renda_media <- mean(espanhois$Renda)\n",
        "R_espanhois_experiencia_media <- mean(espanhois$`Experiência`)\n",
        "\n",
        "\n",
        "cat(\"Resultados:\\n\")\n",
        "cat(\"Alvo          Calculados       X       R     \\n\")\n",
        "cat(\"Renda:        \", espanhois_renda_media,\"           \", R_espanhois_renda_media, \"\\n\")\n",
        "cat(\"Experiencia:  \", espanhois_experiencia_media,\"           \", R_espanhois_experiencia_media, \"\\n\")"
      ],
      "metadata": {
        "colab": {
          "base_uri": "https://localhost:8080/",
          "height": 284
        },
        "id": "DDvl3To_6CZs",
        "outputId": "d82d8c04-4996-4196-e2b8-2382ec920f72"
      },
      "execution_count": 9,
      "outputs": [
        {
          "output_type": "display_data",
          "data": {
            "text/html": [
              "<table class=\"dataframe\">\n",
              "<caption>A data.frame: 3 × 4</caption>\n",
              "<thead>\n",
              "\t<tr><th scope=col>Idade</th><th scope=col>Nacionalidade</th><th scope=col>Renda</th><th scope=col>Experiência</th></tr>\n",
              "\t<tr><th scope=col>&lt;dbl&gt;</th><th scope=col>&lt;chr&gt;</th><th scope=col>&lt;dbl&gt;</th><th scope=col>&lt;dbl&gt;</th></tr>\n",
              "</thead>\n",
              "<tbody>\n",
              "\t<tr><td>26</td><td>Espanhola</td><td>0.9</td><td>1</td></tr>\n",
              "\t<tr><td>29</td><td>Espanhola</td><td>1.6</td><td>3</td></tr>\n",
              "\t<tr><td>23</td><td>Espanhola</td><td>1.2</td><td>0</td></tr>\n",
              "</tbody>\n",
              "</table>\n"
            ],
            "text/markdown": "\nA data.frame: 3 × 4\n\n| Idade &lt;dbl&gt; | Nacionalidade &lt;chr&gt; | Renda &lt;dbl&gt; | Experiência &lt;dbl&gt; |\n|---|---|---|---|\n| 26 | Espanhola | 0.9 | 1 |\n| 29 | Espanhola | 1.6 | 3 |\n| 23 | Espanhola | 1.2 | 0 |\n\n",
            "text/latex": "A data.frame: 3 × 4\n\\begin{tabular}{llll}\n Idade & Nacionalidade & Renda & Experiência\\\\\n <dbl> & <chr> & <dbl> & <dbl>\\\\\n\\hline\n\t 26 & Espanhola & 0.9 & 1\\\\\n\t 29 & Espanhola & 1.6 & 3\\\\\n\t 23 & Espanhola & 1.2 & 0\\\\\n\\end{tabular}\n",
            "text/plain": [
              "  Idade Nacionalidade Renda Experiência\n",
              "1 26    Espanhola     0.9   1          \n",
              "2 29    Espanhola     1.6   3          \n",
              "3 23    Espanhola     1.2   0          "
            ]
          },
          "metadata": {}
        },
        {
          "output_type": "stream",
          "name": "stdout",
          "text": [
            "Resultados:\n",
            "Alvo          Calculados       X       R     \n",
            "Renda:         1.233333             1.233333 \n",
            "Experiencia:   1.333333             1.333333 \n"
          ]
        }
      ]
    },
    {
      "cell_type": "markdown",
      "source": [
        "### **Franceses**"
      ],
      "metadata": {
        "id": "hcfsFmIF5366"
      }
    },
    {
      "cell_type": "code",
      "source": [
        "franceses\n",
        "\n",
        "franceses_renda_media <- sum(franceses$Renda)/length(franceses$Renda)\n",
        "franceses_experiencia_media <- sum(franceses$`Experiência`)/length(franceses$`Experiência`)\n",
        "\n",
        "R_franceses_renda_media <- mean(franceses$Renda)\n",
        "R_franceses_experiencia_media <- mean(franceses$`Experiência`)\n",
        "\n",
        "\n",
        "cat(\"Resultados:\\n\")\n",
        "cat(\"Alvo          Calculados       X       R     \\n\")\n",
        "cat(\"Renda:          \", franceses_renda_media,\"                \", R_franceses_renda_media, \"\\n\")\n",
        "cat(\"Experiencia:    \", franceses_experiencia_media,\"                 \", R_franceses_experiencia_media, \"\\n\")"
      ],
      "metadata": {
        "colab": {
          "base_uri": "https://localhost:8080/",
          "height": 284
        },
        "id": "BwhqHKf66WQe",
        "outputId": "889ae979-263b-4fcb-fbed-453925d12cf1"
      },
      "execution_count": 10,
      "outputs": [
        {
          "output_type": "display_data",
          "data": {
            "text/html": [
              "<table class=\"dataframe\">\n",
              "<caption>A data.frame: 3 × 4</caption>\n",
              "<thead>\n",
              "\t<tr><th scope=col>Idade</th><th scope=col>Nacionalidade</th><th scope=col>Renda</th><th scope=col>Experiência</th></tr>\n",
              "\t<tr><th scope=col>&lt;dbl&gt;</th><th scope=col>&lt;chr&gt;</th><th scope=col>&lt;dbl&gt;</th><th scope=col>&lt;dbl&gt;</th></tr>\n",
              "</thead>\n",
              "<tbody>\n",
              "\t<tr><td>51</td><td>Francesa</td><td>1.8</td><td>28</td></tr>\n",
              "\t<tr><td>25</td><td>Francesa</td><td>1.6</td><td> 1</td></tr>\n",
              "\t<tr><td>48</td><td>Francesa</td><td>2.0</td><td>19</td></tr>\n",
              "</tbody>\n",
              "</table>\n"
            ],
            "text/markdown": "\nA data.frame: 3 × 4\n\n| Idade &lt;dbl&gt; | Nacionalidade &lt;chr&gt; | Renda &lt;dbl&gt; | Experiência &lt;dbl&gt; |\n|---|---|---|---|\n| 51 | Francesa | 1.8 | 28 |\n| 25 | Francesa | 1.6 |  1 |\n| 48 | Francesa | 2.0 | 19 |\n\n",
            "text/latex": "A data.frame: 3 × 4\n\\begin{tabular}{llll}\n Idade & Nacionalidade & Renda & Experiência\\\\\n <dbl> & <chr> & <dbl> & <dbl>\\\\\n\\hline\n\t 51 & Francesa & 1.8 & 28\\\\\n\t 25 & Francesa & 1.6 &  1\\\\\n\t 48 & Francesa & 2.0 & 19\\\\\n\\end{tabular}\n",
            "text/plain": [
              "  Idade Nacionalidade Renda Experiência\n",
              "1 51    Francesa      1.8   28         \n",
              "2 25    Francesa      1.6    1         \n",
              "3 48    Francesa      2.0   19         "
            ]
          },
          "metadata": {}
        },
        {
          "output_type": "stream",
          "name": "stdout",
          "text": [
            "Resultados:\n",
            "Alvo          Calculados       X       R     \n",
            "Renda:           1.8                  1.8 \n",
            "Experiencia:     16                   16 \n"
          ]
        }
      ]
    },
    {
      "cell_type": "markdown",
      "source": [
        "### **Alemães**"
      ],
      "metadata": {
        "id": "PiCJwNdc5-IN"
      }
    },
    {
      "cell_type": "code",
      "source": [
        "alemaes\n",
        "\n",
        "alemaes_renda_media <- sum(alemaes$Renda)/length(alemaes$Renda)\n",
        "alemaes_experiencia_media <- sum(alemaes$`Experiência`)/length(alemaes$`Experiência`)\n",
        "\n",
        "R_alemaes_renda_media <- mean(alemaes$Renda)\n",
        "R_alemaes_experiencia_media <- mean(alemaes$`Experiência`)\n",
        "\n",
        "\n",
        "cat(\"Resultados:\\n\")\n",
        "cat(\"Alvo          Calculados       X       R     \\n\")\n",
        "cat(\"Renda:         \", alemaes_renda_media,\"                 \", R_alemaes_renda_media, \"\\n\")\n",
        "cat(\"Experiencia:   \", alemaes_experiencia_media,\"                  \", R_alemaes_experiencia_media, \"\\n\")"
      ],
      "metadata": {
        "colab": {
          "base_uri": "https://localhost:8080/",
          "height": 252
        },
        "id": "Zl19EnK06vtu",
        "outputId": "91f0d6da-60d7-45c4-8bdf-13be6ab50d50"
      },
      "execution_count": 11,
      "outputs": [
        {
          "output_type": "display_data",
          "data": {
            "text/html": [
              "<table class=\"dataframe\">\n",
              "<caption>A data.frame: 2 × 4</caption>\n",
              "<thead>\n",
              "\t<tr><th scope=col>Idade</th><th scope=col>Nacionalidade</th><th scope=col>Renda</th><th scope=col>Experiência</th></tr>\n",
              "\t<tr><th scope=col>&lt;dbl&gt;</th><th scope=col>&lt;chr&gt;</th><th scope=col>&lt;dbl&gt;</th><th scope=col>&lt;dbl&gt;</th></tr>\n",
              "</thead>\n",
              "<tbody>\n",
              "\t<tr><td>42</td><td>Alemana</td><td>2.5</td><td>18</td></tr>\n",
              "\t<tr><td>38</td><td>Alemana</td><td>2.1</td><td>12</td></tr>\n",
              "</tbody>\n",
              "</table>\n"
            ],
            "text/markdown": "\nA data.frame: 2 × 4\n\n| Idade &lt;dbl&gt; | Nacionalidade &lt;chr&gt; | Renda &lt;dbl&gt; | Experiência &lt;dbl&gt; |\n|---|---|---|---|\n| 42 | Alemana | 2.5 | 18 |\n| 38 | Alemana | 2.1 | 12 |\n\n",
            "text/latex": "A data.frame: 2 × 4\n\\begin{tabular}{llll}\n Idade & Nacionalidade & Renda & Experiência\\\\\n <dbl> & <chr> & <dbl> & <dbl>\\\\\n\\hline\n\t 42 & Alemana & 2.5 & 18\\\\\n\t 38 & Alemana & 2.1 & 12\\\\\n\\end{tabular}\n",
            "text/plain": [
              "  Idade Nacionalidade Renda Experiência\n",
              "1 42    Alemana       2.5   18         \n",
              "2 38    Alemana       2.1   12         "
            ]
          },
          "metadata": {}
        },
        {
          "output_type": "stream",
          "name": "stdout",
          "text": [
            "Resultados:\n",
            "Alvo          Calculados       X       R     \n",
            "Renda:          2.3                   2.3 \n",
            "Experiencia:    15                    15 \n"
          ]
        }
      ]
    },
    {
      "cell_type": "markdown",
      "source": [
        "### **Conclusões**"
      ],
      "metadata": {
        "id": "aKCshKC68wV9"
      }
    },
    {
      "cell_type": "code",
      "source": [
        "#Juntando as informações\n",
        "\n",
        "nacionalidade_categoria <- c(\"Italianos\", \"Ingleses\", \"Belgas\", \"Espanhois\", \"Franceses\", \"Alemães\")\n",
        "nacionalidade_renda_media <- c(italianos_renda_media, ingleses_renda_media, belgas_renda_media, espanhois_renda_media, franceses_renda_media, alemaes_renda_media)\n",
        "nacionalidade_experiencia_media <- c(italianos_experiencia_media, ingleses_experiencia_media, belgas_experiencia_media, espanhois_experiencia_media, franceses_experiencia_media, alemaes_experiencia_media)\n",
        "\n",
        "infos <- data.frame(Nacionalidade = nacionalidade_categoria, Renda = nacionalidade_renda_media, Experiencia = nacionalidade_experiencia_media)\n",
        "\n",
        "ggplot(infos, aes(x=Nacionalidade, y=Renda)) +\n",
        "  geom_bar(stat = \"identity\")\n",
        "\n",
        "ggplot(infos, aes(x=Nacionalidade, y=Experiencia)) +\n",
        "  geom_bar(stat = \"identity\")\n"
      ],
      "metadata": {
        "colab": {
          "base_uri": "https://localhost:8080/",
          "height": 857
        },
        "id": "JJA5qrqJ8zyK",
        "outputId": "cafdfe9c-736a-4ccd-b96d-24fb9606b135"
      },
      "execution_count": 26,
      "outputs": [
        {
          "output_type": "display_data",
          "data": {
            "text/plain": [
              "plot without title"
            ],
            "image/png": "[encoded data removed]"
          },
          "metadata": {
            "image/png": {
              "width": 420,
              "height": 420
            }
          }
        },
        {
          "output_type": "display_data",
          "data": {
            "text/plain": [
              "plot without title"
            ],
            "image/png": "[encoded data removed]"
          },
          "metadata": {
            "image/png": {
              "width": 420,
              "height": 420
            }
          }
        }
      ]
    },
    {
      "cell_type": "markdown",
      "source": [
        "Pelos Gráficos, podemos ver que em média, nessa empresa, os Italianos são aqueles que mais contém mais experiência, enquanto isso, os alemães são aqueles que, em média, têm a maior renda desejada."
      ],
      "metadata": {
        "id": "JinFehfYA2Kr"
      }
    },
    {
      "cell_type": "markdown",
      "source": [
        "## **Parte 3**\n",
        "\n",
        "\n",
        "\n",
        "\n"
      ],
      "metadata": {
        "id": "q8F3UKB6QvF6"
      }
    },
    {
      "cell_type": "markdown",
      "source": [
        "---\n",
        "\n",
        "Existe correlação entre anos de experiência e renda desejada? Utilize ferramentas visu-\n",
        "ais apropriadas (por exemplo, gráfico de dispersão) e calcule o coeficiente de correlação\n",
        "de Pearson. Interprete o resultado"
      ],
      "metadata": {
        "id": "ecvYgZSyCMr6"
      }
    },
    {
      "cell_type": "code",
      "source": [
        "plot(experiencia, renda)\n",
        "\n",
        "\n",
        "#Calculando o coeficiente de Correlação de Pearson\n",
        "\n",
        "num = sum((renda - renda_media) * (experiencia - experiencia_media))\n",
        "den = sqrt(sum((renda - renda_media)**2)) * sqrt(sum((experiencia - experiencia_media)**2))\n",
        "\n",
        "p = num/den\n",
        "R_p = cor(renda, experiencia, method = 'pearson')\n",
        "\n",
        "p\n",
        "R_p"
      ],
      "metadata": {
        "colab": {
          "base_uri": "https://localhost:8080/",
          "height": 472
        },
        "id": "BR2lnxCpQ5Gr",
        "outputId": "220b3223-1bfa-45b8-aeaa-75c9b4d99cd8"
      },
      "execution_count": 13,
      "outputs": [
        {
          "output_type": "display_data",
          "data": {
            "text/html": [
              "0.49776715001041"
            ],
            "text/markdown": "0.49776715001041",
            "text/latex": "0.49776715001041",
            "text/plain": [
              "[1] 0.4977672"
            ]
          },
          "metadata": {}
        },
        {
          "output_type": "display_data",
          "data": {
            "text/html": [
              "0.497767150010409"
            ],
            "text/markdown": "0.497767150010409",
            "text/latex": "0.497767150010409",
            "text/plain": [
              "[1] 0.4977672"
            ]
          },
          "metadata": {}
        },
        {
          "output_type": "display_data",
          "data": {
            "text/plain": [
              "plot without title"
            ],
            "image/png": "[encoded data removed]"
          },
          "metadata": {
            "image/png": {
              "width": 420,
              "height": 420
            }
          }
        }
      ]
    },
    {
      "cell_type": "markdown",
      "source": [
        "### **Dedução**\n",
        "\n",
        "\n",
        "---\n",
        "\n",
        "Sim, existe uma correlação, ela pode ser evidenciada pelo coeficiente de Paerson, que indica a correção entre valores, e tendo um resultado p = 0.498, podemos concluir que a correlação é fraca, mas tende a ser moderada"
      ],
      "metadata": {
        "id": "MOhbrOSzRTMW"
      }
    },
    {
      "cell_type": "markdown",
      "source": [
        "## **Parte 4**\n"
      ],
      "metadata": {
        "id": "3B9Ivq1sVjnl"
      }
    },
    {
      "cell_type": "markdown",
      "source": [
        "\n",
        "\n",
        "---\n",
        "\n",
        "Suponha que a empresa queira priorizar candidatos com pelo menos 10 anos de experiência e renda desejada inferior a 2,0 (mil euros). Quantos candidatos atendem a ambos\n",
        "os critérios? Liste suas nacionalidades e idades"
      ],
      "metadata": {
        "id": "5z3zyYvGCTAn"
      }
    },
    {
      "cell_type": "code",
      "source": [
        "tabela_filtrada <- filter(tabela, tabela$`Experiência` >= 10, tabela$Renda < 2.0)\n",
        "\n",
        "print(tabela_filtrada)\n"
      ],
      "metadata": {
        "colab": {
          "base_uri": "https://localhost:8080/"
        },
        "id": "TIpwkc0wV_cJ",
        "outputId": "858ed274-31cd-4876-8a90-937cdda54e17"
      },
      "execution_count": 14,
      "outputs": [
        {
          "output_type": "stream",
          "name": "stdout",
          "text": [
            "  Idade Nacionalidade Renda Experiência\n",
            "1    46         Belga   1.2          21\n",
            "2    51      Francesa   1.8          28\n",
            "3    39      Italiana   1.2          13\n",
            "4    52      Italiana   1.1          29\n"
          ]
        }
      ]
    },
    {
      "cell_type": "markdown",
      "source": [
        "### **Resultado**\n",
        "Como podemos ver, sobraram-se 4 pessoas que atendem os pre-requisitos de terem pelo menos 10 anos de experiencia e terem a renda desejada de 2 mil euros, sendo elas: Um belga de 46 anos, um francês de 51 anos e dois italianos, um de 39 ou o outro de 52 anos.\n",
        "\n",
        "\n",
        "\n",
        "---\n",
        "Nota: Manualmente, fazer esse trabalho significa anular cada linha em que a pessoa tinha expericnia < 10 e/ou renda desejada >= 2.0.\n"
      ],
      "metadata": {
        "id": "5QVJjn39cVP7"
      }
    },
    {
      "cell_type": "markdown",
      "source": [
        "## **Parte 5**\n",
        "\n",
        "\n",
        "\n"
      ],
      "metadata": {
        "id": "LPv1q_hmVnQr"
      }
    },
    {
      "cell_type": "markdown",
      "source": [
        "---\n",
        "\n",
        "Construa gráficos que permitam visualizar a distribuição da idade e da renda desejada,\n",
        "separados por nacionalidade. Utilize histogramas, box-plots ou gráficos de barras, e\n",
        "comente as principais diferenças observadas entre os grupo.\n"
      ],
      "metadata": {
        "id": "MlIx4_tjCXI3"
      }
    },
    {
      "cell_type": "code",
      "source": [
        "#=====================================================#\n",
        "\n",
        "#Nota: Utilizaremos a tabela chamada \"tabela\" feita no\n",
        "#começo da atividade.\n",
        "\n",
        "#Para isso, usaremos um gráfico de dispersão com todos\n",
        "#os participantes e diferenciaremos a nacinalidade de\n",
        "#cada grupo por meio da cor e simbolo\n",
        "\n",
        "#=====================================================#\n",
        "\n",
        "\n",
        "\n"
      ],
      "metadata": {
        "id": "e_pfa6mdCpaN"
      },
      "execution_count": 30,
      "outputs": []
    },
    {
      "cell_type": "code",
      "source": [
        "ggplot(tabela, aes(x=Idade, y=Renda, color=Nacionalidade, shape=Nacionalidade)) +\n",
        "    geom_point(size = 6)"
      ],
      "metadata": {
        "colab": {
          "base_uri": "https://localhost:8080/",
          "height": 437
        },
        "id": "WtjViFneC8Wp",
        "outputId": "22c4f39c-7d44-414a-a0e3-fd57987935a8"
      },
      "execution_count": 38,
      "outputs": [
        {
          "output_type": "display_data",
          "data": {
            "text/plain": [
              "plot without title"
            ],
            "image/png": "[encoded data removed]"
          },
          "metadata": {
            "image/png": {
              "width": 420,
              "height": 420
            }
          }
        }
      ]
    },
    {
      "cell_type": "markdown",
      "source": [],
      "metadata": {
        "id": "mF_1Vvw1Y9FR"
      }
    },
    {
      "cell_type": "markdown",
      "source": [
        "### **Caracteristicas Observadas**\n",
        "\n",
        "\n",
        "---\n",
        "\n"
      ],
      "metadata": {
        "id": "0uKSHXrVHSIH"
      }
    },
    {
      "cell_type": "markdown",
      "source": [
        "#### **Geral**"
      ],
      "metadata": {
        "id": "ES4hbrWKY5gl"
      }
    },
    {
      "cell_type": "code",
      "source": [
        "#Informações importantes\n",
        "cat(\"Operação:        Idade     x    Renda Desejada\\n\")\n",
        "\n",
        "#Medias\n",
        "cat(\"Média           \", idade_media, \"            \", renda_media, \"\\n\")\n",
        "\n",
        "#Medianas\n",
        "cat(\"Médiana         \", idade_mediana, \"             \", renda_mediana, \"\\n\")\n",
        "\n",
        "#Desvio Padrão\n",
        "cat(\"Desvio Padrão   \", idade_desvio_padrao, \"        \", renda_desvio_padrao, \"\\n\")\n"
      ],
      "metadata": {
        "colab": {
          "base_uri": "https://localhost:8080/"
        },
        "id": "w6p4MV23T-ud",
        "outputId": "50158d64-6e29-4401-f83e-bc7b406d72ef"
      },
      "execution_count": 73,
      "outputs": [
        {
          "output_type": "stream",
          "name": "stdout",
          "text": [
            "Operação:        Idade     x    Renda Desejada\n",
            "Média            38.65              1.92 \n",
            "Médiana          38.5               1.75 \n",
            "Desvio Padrão    9.67613          0.6954135 \n"
          ]
        }
      ]
    },
    {
      "cell_type": "markdown",
      "source": [
        "#### **Espanhois**\n",
        "  São aquelas que têm a menor **Idade** e ao mesmo tempo, são os com a menor **Renda desejada**, por conta da pouca quantidade de amostras não podemos concluir com toda a certeza que existe uma relação direta."
      ],
      "metadata": {
        "id": "KccJZLcdHZSa"
      }
    },
    {
      "cell_type": "code",
      "source": [
        "espanhois"
      ],
      "metadata": {
        "colab": {
          "base_uri": "https://localhost:8080/",
          "height": 192
        },
        "id": "BO0k64V4V-ML",
        "outputId": "c7ad537e-1f7b-4b16-8f15-2251befb46f2"
      },
      "execution_count": 79,
      "outputs": [
        {
          "output_type": "display_data",
          "data": {
            "text/html": [
              "<table class=\"dataframe\">\n",
              "<caption>A data.frame: 3 × 4</caption>\n",
              "<thead>\n",
              "\t<tr><th scope=col>Idade</th><th scope=col>Nacionalidade</th><th scope=col>Renda</th><th scope=col>Experiência</th></tr>\n",
              "\t<tr><th scope=col>&lt;dbl&gt;</th><th scope=col>&lt;chr&gt;</th><th scope=col>&lt;dbl&gt;</th><th scope=col>&lt;dbl&gt;</th></tr>\n",
              "</thead>\n",
              "<tbody>\n",
              "\t<tr><td>26</td><td>Espanhola</td><td>0.9</td><td>1</td></tr>\n",
              "\t<tr><td>29</td><td>Espanhola</td><td>1.6</td><td>3</td></tr>\n",
              "\t<tr><td>23</td><td>Espanhola</td><td>1.2</td><td>0</td></tr>\n",
              "</tbody>\n",
              "</table>\n"
            ],
            "text/markdown": "\nA data.frame: 3 × 4\n\n| Idade &lt;dbl&gt; | Nacionalidade &lt;chr&gt; | Renda &lt;dbl&gt; | Experiência &lt;dbl&gt; |\n|---|---|---|---|\n| 26 | Espanhola | 0.9 | 1 |\n| 29 | Espanhola | 1.6 | 3 |\n| 23 | Espanhola | 1.2 | 0 |\n\n",
            "text/latex": "A data.frame: 3 × 4\n\\begin{tabular}{llll}\n Idade & Nacionalidade & Renda & Experiência\\\\\n <dbl> & <chr> & <dbl> & <dbl>\\\\\n\\hline\n\t 26 & Espanhola & 0.9 & 1\\\\\n\t 29 & Espanhola & 1.6 & 3\\\\\n\t 23 & Espanhola & 1.2 & 0\\\\\n\\end{tabular}\n",
            "text/plain": [
              "  Idade Nacionalidade Renda Experiência\n",
              "1 26    Espanhola     0.9   1          \n",
              "2 29    Espanhola     1.6   3          \n",
              "3 23    Espanhola     1.2   0          "
            ]
          },
          "metadata": {}
        }
      ]
    },
    {
      "cell_type": "markdown",
      "source": [
        "#### **Italianos**\n",
        "É a nacionalidade em que se têm a maior quantidade de amostras/participantes, estão distribuidos por todo o gráfico, apesar disso, pela quantiadade de amostras, pode-se observa uma tendencia à de uma relação direta entre **Idade** e **Renda desejada**, apesar de ser fraca."
      ],
      "metadata": {
        "id": "nA96_u6PIAZ6"
      }
    },
    {
      "cell_type": "code",
      "source": [
        "#Observando essa tendencia pelo coeficiente de Pearson:\n",
        "#Nota 1: Utilizarei a tabela filtrada de Italianos feita na parte 3.\n",
        "#Nota 2: Utilizar a correlação de Pearson parece ser correta, pois podemos\n",
        "#assumir que os indivíduos Italianos não se conhecem e a única correlação direta\n",
        "#que podemos assumir entre eles é a Nacionalidade\n",
        "\n",
        "italianos\n",
        "\n",
        "italianos_p = cor(italianos$Renda, italianos$Idade, method = 'pearson')\n",
        "\n",
        "cat(\"Coeficiente: \", italianos_p, \"\\n\")\n"
      ],
      "metadata": {
        "colab": {
          "base_uri": "https://localhost:8080/",
          "height": 367
        },
        "id": "WWERTXJuIvEE",
        "outputId": "271d36e7-4a59-4e7f-caf8-17005750a3f7"
      },
      "execution_count": 76,
      "outputs": [
        {
          "output_type": "display_data",
          "data": {
            "text/html": [
              "<table class=\"dataframe\">\n",
              "<caption>A data.frame: 8 × 4</caption>\n",
              "<thead>\n",
              "\t<tr><th scope=col>Idade</th><th scope=col>Nacionalidade</th><th scope=col>Renda</th><th scope=col>Experiência</th></tr>\n",
              "\t<tr><th scope=col>&lt;dbl&gt;</th><th scope=col>&lt;chr&gt;</th><th scope=col>&lt;dbl&gt;</th><th scope=col>&lt;dbl&gt;</th></tr>\n",
              "</thead>\n",
              "<tbody>\n",
              "\t<tr><td>28</td><td>Italiana</td><td>2.3</td><td> 2</td></tr>\n",
              "\t<tr><td>37</td><td>Italiana</td><td>2.1</td><td>15</td></tr>\n",
              "\t<tr><td>39</td><td>Italiana</td><td>1.2</td><td>13</td></tr>\n",
              "\t<tr><td>43</td><td>Italiana</td><td>2.8</td><td>20</td></tr>\n",
              "\t<tr><td>58</td><td>Italiana</td><td>3.4</td><td>32</td></tr>\n",
              "\t<tr><td>52</td><td>Italiana</td><td>1.1</td><td>29</td></tr>\n",
              "\t<tr><td>33</td><td>Italiana</td><td>1.7</td><td> 7</td></tr>\n",
              "\t<tr><td>46</td><td>Italiana</td><td>3.2</td><td>23</td></tr>\n",
              "</tbody>\n",
              "</table>\n"
            ],
            "text/markdown": "\nA data.frame: 8 × 4\n\n| Idade &lt;dbl&gt; | Nacionalidade &lt;chr&gt; | Renda &lt;dbl&gt; | Experiência &lt;dbl&gt; |\n|---|---|---|---|\n| 28 | Italiana | 2.3 |  2 |\n| 37 | Italiana | 2.1 | 15 |\n| 39 | Italiana | 1.2 | 13 |\n| 43 | Italiana | 2.8 | 20 |\n| 58 | Italiana | 3.4 | 32 |\n| 52 | Italiana | 1.1 | 29 |\n| 33 | Italiana | 1.7 |  7 |\n| 46 | Italiana | 3.2 | 23 |\n\n",
            "text/latex": "A data.frame: 8 × 4\n\\begin{tabular}{llll}\n Idade & Nacionalidade & Renda & Experiência\\\\\n <dbl> & <chr> & <dbl> & <dbl>\\\\\n\\hline\n\t 28 & Italiana & 2.3 &  2\\\\\n\t 37 & Italiana & 2.1 & 15\\\\\n\t 39 & Italiana & 1.2 & 13\\\\\n\t 43 & Italiana & 2.8 & 20\\\\\n\t 58 & Italiana & 3.4 & 32\\\\\n\t 52 & Italiana & 1.1 & 29\\\\\n\t 33 & Italiana & 1.7 &  7\\\\\n\t 46 & Italiana & 3.2 & 23\\\\\n\\end{tabular}\n",
            "text/plain": [
              "  Idade Nacionalidade Renda Experiência\n",
              "1 28    Italiana      2.3    2         \n",
              "2 37    Italiana      2.1   15         \n",
              "3 39    Italiana      1.2   13         \n",
              "4 43    Italiana      2.8   20         \n",
              "5 58    Italiana      3.4   32         \n",
              "6 52    Italiana      1.1   29         \n",
              "7 33    Italiana      1.7    7         \n",
              "8 46    Italiana      3.2   23         "
            ]
          },
          "metadata": {}
        },
        {
          "output_type": "stream",
          "name": "stdout",
          "text": [
            "Coeficiente:  0.3229702 \n"
          ]
        }
      ]
    },
    {
      "cell_type": "markdown",
      "source": [
        "#### **Alemães**\n",
        "Estão próximos da média total tanto em **Idade** quanto em em **Renda Desejada**, sua distribuição, apesar de não podemos concluir com certeza por conta da quantidade de amostras, é que há a tendencia de ter uma relação diretamente proporcional entre **Idade** e **Renda Desejada**.\n",
        "\n",
        "Obs: Suas amostras se diferenciam menos do que um **Desvio Padrão** tanto em **Idade** quanto **Renda Desejada**."
      ],
      "metadata": {
        "id": "-zrwbtBePext"
      }
    },
    {
      "cell_type": "code",
      "source": [
        "alemaes\n",
        "\n",
        "alemaes_idade_media <- sum(alemaes$Idade)/length(alemaes$Idade)\n",
        "\n",
        "\n",
        "cat(\"Médias:\\n\")\n",
        "cat(\"Idade:\\n\")\n",
        "cat(\"Total: \", idade_media, \"| Alemã: \", alemaes_idade_media, \"\\n\")\n",
        "\n",
        "cat(\"Renda desejada\\n\")\n",
        "cat(\"Total: \", renda_media, \"| Alemã: \", alemaes_renda_media, \"\\n\")\n",
        "\n",
        "\n"
      ],
      "metadata": {
        "colab": {
          "base_uri": "https://localhost:8080/",
          "height": 250
        },
        "id": "T6ckgViBQOQO",
        "outputId": "c014db94-c76a-426d-fb7f-269c32b1a823"
      },
      "execution_count": 74,
      "outputs": [
        {
          "output_type": "display_data",
          "data": {
            "text/html": [
              "<table class=\"dataframe\">\n",
              "<caption>A data.frame: 2 × 4</caption>\n",
              "<thead>\n",
              "\t<tr><th scope=col>Idade</th><th scope=col>Nacionalidade</th><th scope=col>Renda</th><th scope=col>Experiência</th></tr>\n",
              "\t<tr><th scope=col>&lt;dbl&gt;</th><th scope=col>&lt;chr&gt;</th><th scope=col>&lt;dbl&gt;</th><th scope=col>&lt;dbl&gt;</th></tr>\n",
              "</thead>\n",
              "<tbody>\n",
              "\t<tr><td>42</td><td>Alemana</td><td>2.5</td><td>18</td></tr>\n",
              "\t<tr><td>38</td><td>Alemana</td><td>2.1</td><td>12</td></tr>\n",
              "</tbody>\n",
              "</table>\n"
            ],
            "text/markdown": "\nA data.frame: 2 × 4\n\n| Idade &lt;dbl&gt; | Nacionalidade &lt;chr&gt; | Renda &lt;dbl&gt; | Experiência &lt;dbl&gt; |\n|---|---|---|---|\n| 42 | Alemana | 2.5 | 18 |\n| 38 | Alemana | 2.1 | 12 |\n\n",
            "text/latex": "A data.frame: 2 × 4\n\\begin{tabular}{llll}\n Idade & Nacionalidade & Renda & Experiência\\\\\n <dbl> & <chr> & <dbl> & <dbl>\\\\\n\\hline\n\t 42 & Alemana & 2.5 & 18\\\\\n\t 38 & Alemana & 2.1 & 12\\\\\n\\end{tabular}\n",
            "text/plain": [
              "  Idade Nacionalidade Renda Experiência\n",
              "1 42    Alemana       2.5   18         \n",
              "2 38    Alemana       2.1   12         "
            ]
          },
          "metadata": {}
        },
        {
          "output_type": "stream",
          "name": "stdout",
          "text": [
            "Médias:\n",
            "Idade:\n",
            "Total:  38.65 | Alemã:  40 \n",
            "Renda desejada\n",
            "Total:  1.92 | Alemã:  2.3 \n"
          ]
        }
      ]
    },
    {
      "cell_type": "markdown",
      "source": [
        "#### **Belgas**\n",
        "Têm **Idade** bem distribuida, com valores acima e abaixo da **Média** e **Mediana** total, apesar disso, são aqueles com a **Renda Desejada** abaixo da **Média** e **Mediana**\n",
        "\n"
      ],
      "metadata": {
        "id": "C-PJVi5APxhR"
      }
    },
    {
      "cell_type": "code",
      "source": [
        "belgas"
      ],
      "metadata": {
        "colab": {
          "base_uri": "https://localhost:8080/",
          "height": 161
        },
        "id": "I4yBvnDCV6hI",
        "outputId": "3611b2a3-740f-46d2-e444-19e3e137e03e"
      },
      "execution_count": 78,
      "outputs": [
        {
          "output_type": "display_data",
          "data": {
            "text/html": [
              "<table class=\"dataframe\">\n",
              "<caption>A data.frame: 2 × 4</caption>\n",
              "<thead>\n",
              "\t<tr><th scope=col>Idade</th><th scope=col>Nacionalidade</th><th scope=col>Renda</th><th scope=col>Experiência</th></tr>\n",
              "\t<tr><th scope=col>&lt;dbl&gt;</th><th scope=col>&lt;chr&gt;</th><th scope=col>&lt;dbl&gt;</th><th scope=col>&lt;dbl&gt;</th></tr>\n",
              "</thead>\n",
              "<tbody>\n",
              "\t<tr><td>46</td><td>Belga</td><td>1.2</td><td>21</td></tr>\n",
              "\t<tr><td>31</td><td>Belga</td><td>1.4</td><td> 5</td></tr>\n",
              "</tbody>\n",
              "</table>\n"
            ],
            "text/markdown": "\nA data.frame: 2 × 4\n\n| Idade &lt;dbl&gt; | Nacionalidade &lt;chr&gt; | Renda &lt;dbl&gt; | Experiência &lt;dbl&gt; |\n|---|---|---|---|\n| 46 | Belga | 1.2 | 21 |\n| 31 | Belga | 1.4 |  5 |\n\n",
            "text/latex": "A data.frame: 2 × 4\n\\begin{tabular}{llll}\n Idade & Nacionalidade & Renda & Experiência\\\\\n <dbl> & <chr> & <dbl> & <dbl>\\\\\n\\hline\n\t 46 & Belga & 1.2 & 21\\\\\n\t 31 & Belga & 1.4 &  5\\\\\n\\end{tabular}\n",
            "text/plain": [
              "  Idade Nacionalidade Renda Experiência\n",
              "1 46    Belga         1.2   21         \n",
              "2 31    Belga         1.4    5         "
            ]
          },
          "metadata": {}
        }
      ]
    },
    {
      "cell_type": "markdown",
      "source": [
        "#### **Fraceses**\n",
        "Estão bem esparços em questão de **Idade**, com valores tanto abaixo, quanto acima da **Média** e **Mediana**, apesar disso, apesar disso, esses mesmo valores se aproximam do total, ao isolarmos esse grupo. Quanto a **Renda Desejada**, estão próximos, mas com a tendência a ser menor, da **Média** e **Mediana** total."
      ],
      "metadata": {
        "id": "zbo1HliFP4Sf"
      }
    },
    {
      "cell_type": "code",
      "source": [
        "franceses\n",
        "franceses_idade_media <- sum(franceses$Idade)/length(franceses$Idade)\n",
        "franceses_idade_media\n",
        "franceses_dp <- sd(franceses$Idade)\n",
        "franceses_dp"
      ],
      "metadata": {
        "colab": {
          "base_uri": "https://localhost:8080/",
          "height": 227
        },
        "id": "620jdUszW66a",
        "outputId": "d5ca1815-b1d2-4dee-becf-51c866a6c6a9"
      },
      "execution_count": 84,
      "outputs": [
        {
          "output_type": "display_data",
          "data": {
            "text/html": [
              "<table class=\"dataframe\">\n",
              "<caption>A data.frame: 3 × 4</caption>\n",
              "<thead>\n",
              "\t<tr><th scope=col>Idade</th><th scope=col>Nacionalidade</th><th scope=col>Renda</th><th scope=col>Experiência</th></tr>\n",
              "\t<tr><th scope=col>&lt;dbl&gt;</th><th scope=col>&lt;chr&gt;</th><th scope=col>&lt;dbl&gt;</th><th scope=col>&lt;dbl&gt;</th></tr>\n",
              "</thead>\n",
              "<tbody>\n",
              "\t<tr><td>51</td><td>Francesa</td><td>1.8</td><td>28</td></tr>\n",
              "\t<tr><td>25</td><td>Francesa</td><td>1.6</td><td> 1</td></tr>\n",
              "\t<tr><td>48</td><td>Francesa</td><td>2.0</td><td>19</td></tr>\n",
              "</tbody>\n",
              "</table>\n"
            ],
            "text/markdown": "\nA data.frame: 3 × 4\n\n| Idade &lt;dbl&gt; | Nacionalidade &lt;chr&gt; | Renda &lt;dbl&gt; | Experiência &lt;dbl&gt; |\n|---|---|---|---|\n| 51 | Francesa | 1.8 | 28 |\n| 25 | Francesa | 1.6 |  1 |\n| 48 | Francesa | 2.0 | 19 |\n\n",
            "text/latex": "A data.frame: 3 × 4\n\\begin{tabular}{llll}\n Idade & Nacionalidade & Renda & Experiência\\\\\n <dbl> & <chr> & <dbl> & <dbl>\\\\\n\\hline\n\t 51 & Francesa & 1.8 & 28\\\\\n\t 25 & Francesa & 1.6 &  1\\\\\n\t 48 & Francesa & 2.0 & 19\\\\\n\\end{tabular}\n",
            "text/plain": [
              "  Idade Nacionalidade Renda Experiência\n",
              "1 51    Francesa      1.8   28         \n",
              "2 25    Francesa      1.6    1         \n",
              "3 48    Francesa      2.0   19         "
            ]
          },
          "metadata": {}
        },
        {
          "output_type": "display_data",
          "data": {
            "text/html": [
              "41.3333333333333"
            ],
            "text/markdown": "41.3333333333333",
            "text/latex": "41.3333333333333",
            "text/plain": [
              "[1] 41.33333"
            ]
          },
          "metadata": {}
        },
        {
          "output_type": "display_data",
          "data": {
            "text/html": [
              "14.2243921955679"
            ],
            "text/markdown": "14.2243921955679",
            "text/latex": "14.2243921955679",
            "text/plain": [
              "[1] 14.22439"
            ]
          },
          "metadata": {}
        }
      ]
    },
    {
      "cell_type": "markdown",
      "source": [
        "#### **Ingleses**\n",
        "\n",
        "Ao se tratar de média e distribuição, apresentam caracteristicas semelhantes aos alemães, apesar disso, suas amostras mostram-se mais espaças, com uma diferença maior do que um **Desvio Padrão** tanto em idade quanto na renda desejada"
      ],
      "metadata": {
        "id": "DYqjq2AaP8jj"
      }
    },
    {
      "cell_type": "code",
      "source": [
        "ingleses\n",
        "\n",
        "ingleses_idade_media <- sum(ingleses$Idade)/length(ingleses$Idade)\n",
        "\n",
        "ingleses_idade_media\n"
      ],
      "metadata": {
        "colab": {
          "base_uri": "https://localhost:8080/",
          "height": 178
        },
        "id": "d-_NXJ9ZSP__",
        "outputId": "8ad21a0b-0ba3-4130-9447-5388f82d962c"
      },
      "execution_count": 77,
      "outputs": [
        {
          "output_type": "display_data",
          "data": {
            "text/html": [
              "<table class=\"dataframe\">\n",
              "<caption>A data.frame: 2 × 4</caption>\n",
              "<thead>\n",
              "\t<tr><th scope=col>Idade</th><th scope=col>Nacionalidade</th><th scope=col>Renda</th><th scope=col>Experiência</th></tr>\n",
              "\t<tr><th scope=col>&lt;dbl&gt;</th><th scope=col>&lt;chr&gt;</th><th scope=col>&lt;dbl&gt;</th><th scope=col>&lt;dbl&gt;</th></tr>\n",
              "</thead>\n",
              "<tbody>\n",
              "\t<tr><td>34</td><td>Inglesa</td><td>1.6</td><td> 8</td></tr>\n",
              "\t<tr><td>44</td><td>Inglesa</td><td>2.7</td><td>23</td></tr>\n",
              "</tbody>\n",
              "</table>\n"
            ],
            "text/markdown": "\nA data.frame: 2 × 4\n\n| Idade &lt;dbl&gt; | Nacionalidade &lt;chr&gt; | Renda &lt;dbl&gt; | Experiência &lt;dbl&gt; |\n|---|---|---|---|\n| 34 | Inglesa | 1.6 |  8 |\n| 44 | Inglesa | 2.7 | 23 |\n\n",
            "text/latex": "A data.frame: 2 × 4\n\\begin{tabular}{llll}\n Idade & Nacionalidade & Renda & Experiência\\\\\n <dbl> & <chr> & <dbl> & <dbl>\\\\\n\\hline\n\t 34 & Inglesa & 1.6 &  8\\\\\n\t 44 & Inglesa & 2.7 & 23\\\\\n\\end{tabular}\n",
            "text/plain": [
              "  Idade Nacionalidade Renda Experiência\n",
              "1 34    Inglesa       1.6    8         \n",
              "2 44    Inglesa       2.7   23         "
            ]
          },
          "metadata": {}
        },
        {
          "output_type": "display_data",
          "data": {
            "text/html": [
              "39"
            ],
            "text/markdown": "39",
            "text/latex": "39",
            "text/plain": [
              "[1] 39"
            ]
          },
          "metadata": {}
        }
      ]
    }
  ]
}
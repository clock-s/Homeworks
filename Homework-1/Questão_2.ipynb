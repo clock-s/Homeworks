{
  "nbformat": 4,
  "nbformat_minor": 0,
  "metadata": {
    "colab": {
      "provenance": []
    },
    "kernelspec": {
      "name": "ir",
      "display_name": "R"
    },
    "language_info": {
      "name": "R"
    }
  },
  "cells": [
    {
      "cell_type": "code",
      "execution_count": 1,
      "metadata": {
        "colab": {
          "base_uri": "https://localhost:8080/"
        },
        "id": "emRReCTo4eQ2",
        "outputId": "f0d3613a-4f78-4c21-c694-31c5c7ad3d6d"
      },
      "outputs": [
        {
          "output_type": "stream",
          "name": "stderr",
          "text": [
            "Installing package into ‘/usr/local/lib/R/site-library’\n",
            "(as ‘lib’ is unspecified)\n",
            "\n",
            "Installing package into ‘/usr/local/lib/R/site-library’\n",
            "(as ‘lib’ is unspecified)\n",
            "\n",
            "Installing package into ‘/usr/local/lib/R/site-library’\n",
            "(as ‘lib’ is unspecified)\n",
            "\n",
            "Installing package into ‘/usr/local/lib/R/site-library’\n",
            "(as ‘lib’ is unspecified)\n",
            "\n",
            "Warning message:\n",
            "“no DISPLAY variable so Tk is not available”\n",
            "Package 'qcc' version 2.7\n",
            "\n",
            "Type 'citation(\"qcc\")' for citing this R package in publications.\n",
            "\n",
            "\n",
            "Attaching package: ‘dplyr’\n",
            "\n",
            "\n",
            "The following objects are masked from ‘package:stats’:\n",
            "\n",
            "    filter, lag\n",
            "\n",
            "\n",
            "The following objects are masked from ‘package:base’:\n",
            "\n",
            "    intersect, setdiff, setequal, union\n",
            "\n",
            "\n"
          ]
        }
      ],
      "source": [
        "install.packages(\"aplpack\")\n",
        "install.packages(\"qcc\")\n",
        "install.packages(\"ggplot2\")\n",
        "install.packages(\"dplyr\")\n",
        "\n",
        "library(aplpack)\n",
        "library(qcc)\n",
        "library(ggplot2)\n",
        "library(dplyr)\n"
      ]
    },
    {
      "cell_type": "markdown",
      "source": [
        "# **QUESTÃO 2**"
      ],
      "metadata": {
        "id": "ntGQzmau5SJL"
      }
    },
    {
      "cell_type": "markdown",
      "source": [
        "\n",
        "\n",
        "---\n",
        "\n",
        "Uma empresa italiana recebeu 20 currículos de cidadãos italianos e estrangeiros na seleção\n",
        "de pessoal qualificado para o cargo de gerente de relações exteriores. A tabela 2 reporta as\n",
        "informações consideradas relevantes na seleção: a idade, a nacionalidade, o nível mínimo\n",
        "de renda desejada (em milhares de euros), os anos de experiência no trabalho"
      ],
      "metadata": {
        "id": "oVEnwrfyaKQn"
      }
    },
    {
      "cell_type": "code",
      "source": [
        "#Gerando a tabela\n",
        "\n",
        "idade <- c(28, 34, 46, 26, 37, 29, 51, 31, 39, 43, 58, 44, 25, 23, 52, 42, 48, 33, 38, 46)\n",
        "\n",
        "nacionalidade <- c(\"Italiana\", \"Inglesa\", \"Belga\", \"Espanhola\", \"Italiana\", \"Espanhola\",\n",
        "\"Francesa\", \"Belga\", \"Italiana\", \"Italiana\", \"Italiana\", \"Inglesa\", \"Francesa\", \"Espanhola\",\n",
        "\"Italiana\",  \"Alemana\", \"Francesa\", \"Italiana\", \"Alemana\", \"Italiana\")\n",
        "\n",
        "renda <- c(2.3, 1.6, 1.2, 0.9, 2.1, 1.6, 1.8, 1.4, 1.2, 2.8, 3.4, 2.7, 1.6, 1.2, 1.1, 2.5,\n",
        " 2.0, 1.7, 2.1, 3.2)\n",
        "\n",
        "\n",
        " experiencia <- c(2, 8, 21, 1, 15, 3, 28, 5, 13, 20, 32, 23, 1, 0, 29, 18, 19, 7, 12, 23)\n",
        "\n",
        "tabela <- data.frame(Idade= idade, Nacionalidade= nacionalidade, Renda = renda, Experiência = experiencia)\n",
        "\n",
        "#Dessa forma, nos temos a tabela, como também as colunas separamente."
      ],
      "metadata": {
        "id": "VP48AzHF5LKZ"
      },
      "execution_count": 23,
      "outputs": []
    },
    {
      "cell_type": "markdown",
      "source": [
        "## **Parte 1**\n",
        "\n",
        "\n"
      ],
      "metadata": {
        "id": "lLmeE0329NOM"
      }
    },
    {
      "cell_type": "markdown",
      "source": [
        "---\n",
        "Calcule a média, mediana e desvio padrão para as variáveis idade, renda desejada e\n",
        "anos de experiência. O que você pode inferir a partir desses valores sobre o perfi típico dos candidatos\n",
        "\n",
        "\n",
        "---\n",
        "\n",
        "Para descobrirmos a média, somamos todos os valores da coluna e dividimos o resultado pelo número total de amostras.\n",
        "\n",
        "Para descobrir a mediana, ordenaremos os vetores e tiraremos a media entre o 10º e o 11º elementos.\n",
        "\n",
        "Para descobrirmos o desvio padrão faremos a raiz quadrada da media do quadrado da diferença de cada amostra com a media."
      ],
      "metadata": {
        "id": "5T6X_jYkCIgm"
      }
    },
    {
      "cell_type": "code",
      "source": [
        "#Fazendo os cálculos (Nota: deixaremos explicito os cálculo de idade, mas para os outros parametros, o prócesso será o mesmo)\n",
        "\n",
        "#Media\n",
        "idade_media = sum(idade)/length(idade)\n",
        "renda_media = sum(renda)/length(renda)\n",
        "experiencia_media = sum(experiencia)/length(experiencia)\n",
        "\n",
        "\n",
        "\n",
        "#Mediana\n",
        "idade_ordenada = sort(idade) #Função para ordenar os valores do vetor idade\n",
        "idade_mediana = (idade_ordenada[length(idade)%/%2] + idade_ordenada[length(idade)%/%2 + 1])/2\n",
        "\n",
        "renda_ordenada = sort(renda)\n",
        "renda_mediana = (renda_ordenada[length(renda_em_euros)%/%2] + renda_ordenada[length(renda_em_euros)%/%2 + 1])/2\n",
        "\n",
        "experiencia_ordenada = sort(experiencia)\n",
        "experiencia_mediana = (experiencia_ordenada[length(experiencia)%/%2] + experiencia_ordenada[length(experiencia)%/%2 + 1])/2\n",
        "\n",
        "\n",
        "#Desvio Padrão\n",
        "idade_desvio_padrao = sqrt(sum((idade-idade_media)**2)/(length(idade)))\n",
        "renda_desvio_padrao = sqrt(sum((renda-renda_media)**2)/(length(renda)))\n",
        "experiencia_desvio_padrao = sqrt(sum((experiencia - experiencia_media)**2)/(length(experiencia)))\n",
        "renda_em_euros_desvio_padrao = sqrt(sum((renda_em_euros-renda_em_euros_media)**2)/(length(renda_em_euros)))\n",
        "\n",
        "#Dispersão Relativa\n",
        "idade_dispersao = idade_desvio_padrao/idade_media\n",
        "renda_dispersao = renda_desvio_padrao/renda_media\n",
        "experiencia_dispersao = experiencia_desvio_padrao/experiencia_media\n",
        "\n",
        "\n",
        "#Utilizando as funções do R\n",
        "\n",
        "#Media\n",
        "R_idade_media = mean(idade)\n",
        "R_renda_media = mean(renda)\n",
        "R_experiencia_media = mean(experiencia)\n",
        "\n",
        "#Mediana\n",
        "R_idade_mediana = median(idade)\n",
        "R_renda_mediana = median(renda)\n",
        "R_experiencia_mediana = median(experiencia)\n",
        "\n",
        "#Desvio Padrão\n",
        "R_idade_desvio_padrao = sd(idade)\n",
        "R_renda_desvio_padrao = sd(renda)\n",
        "R_experiencia_desvio_padrao = sd(experiencia)\n",
        "\n",
        "#Dispersão Relativa\n",
        "R_idade_dispersao = R_idade_desvio_padrao/R_idade_media\n",
        "R_renda_dispersao = R_renda_desvio_padrao/R_renda_media\n",
        "R_experiencia_dispersao = R_experiencia_desvio_padrao/R_experiencia_media\n",
        "\n",
        "cat(\"Resultados:\\n\")\n",
        "cat(\"Operação      Calculados       X       R     \\n\")\n",
        "cat(\"Idade\\n\")\n",
        "cat(\"Media:         \", idade_media,\"              \", R_idade_media, \"\\n\")\n",
        "cat(\"Mediana:       \", idade_mediana,\"               \", R_idade_mediana, \"\\n\")\n",
        "cat(\"Desvio Padrão: \", idade_desvio_padrao,\"            \", R_idade_desvio_padrao, \"\\n\")\n",
        "cat(\"Dispersão:     \", idade_dispersao,\"          \", R_idade_dispersao, \"\\n\")\n",
        "\n",
        "cat(\"\\nRenda\\n\")\n",
        "cat(\"Media:         \", renda_media,\"               \", R_renda_media, \"\\n\")\n",
        "cat(\"Mediana:       \", renda_mediana,\"               \", R_renda_mediana, \"\\n\")\n",
        "cat(\"Desvio Padrão: \", renda_desvio_padrao,\"          \", R_renda_desvio_padrao, \"\\n\")\n",
        "cat(\"Dispersão:     \", renda_dispersao,\"          \", R_renda_dispersao, \"\\n\")\n",
        "\n",
        "cat(\"\\nExperiencia\\n\")\n",
        "cat(\"Media:         \", experiencia_media,\"                 \", R_experiencia_media, \"\\n\")\n",
        "cat(\"Mediana:       \", experiencia_mediana,\"                 \", R_experiencia_mediana, \"\\n\")\n",
        "cat(\"Desvio Padrão: \", experiencia_desvio_padrao,\"              \", R_experiencia_desvio_padrao, \"\\n\")\n",
        "cat(\"Dispersão:     \", experiencia_dispersao,\"          \", R_experiencia_dispersao, \"\\n\")\n",
        "\n",
        "\n"
      ],
      "metadata": {
        "colab": {
          "base_uri": "https://localhost:8080/"
        },
        "id": "C9dIW8-X8yn5",
        "outputId": "a4e8314a-f8f2-4cd2-8173-3791f7f8f789"
      },
      "execution_count": 33,
      "outputs": [
        {
          "output_type": "stream",
          "name": "stdout",
          "text": [
            "Resultados:\n",
            "Operação      Calculados       X       R     \n",
            "Idade\n",
            "Media:          38.65                38.65 \n",
            "Mediana:        38.5                 38.5 \n",
            "Desvio Padrão:  9.67613              9.9275 \n",
            "Dispersão:      0.2503527            0.2568564 \n",
            "\n",
            "Renda\n",
            "Media:          1.92                 1.92 \n",
            "Mediana:        1.75                 1.75 \n",
            "Desvio Padrão:  0.6954135            0.7134792 \n",
            "Dispersão:      0.3621946            0.3716038 \n",
            "\n",
            "Experiencia\n",
            "Media:          14                   14 \n",
            "Mediana:        14                   14 \n",
            "Desvio Padrão:  10.01                10.27004 \n",
            "Dispersão:      0.7149996            0.7335742 \n"
          ]
        }
      ]
    },
    {
      "cell_type": "markdown",
      "source": [
        "### **Divergencias**\n",
        "\n",
        "\n",
        "---\n",
        "\n",
        "A diferença em todos os dados ocorre no desvio padrão, pois enquanto estamos calculando o desvio padrão utilizando a media entre N valores, o R utiliza a coreeção de Bessel, em que se divide pro N-1."
      ],
      "metadata": {
        "id": "NJc_9nSl-sv1"
      }
    },
    {
      "cell_type": "markdown",
      "source": [
        "## **O que podemos inferir?**\n",
        "\n",
        "\n",
        "\n",
        "---\n",
        "\n",
        "### **Idade**\n",
        "Para a idade, podemos inferir que temos uma distribuição de idades simétrica, isso pode ser percebido por conta da media e da mediana estarem bem próximas, isso significa que para cada pessoa mais velha, existe uma pessoa igualmente mais nova para balancear a media das idades. Apesar disso, temos um grupo com idades bastante dispersas, isso pode ser observado algebricamente pelo valor do desvio padrão e dispersão relativa, que são próximos de 10 anos e 25%,e pela tabela, com por exemplo uma amostra tendo 28 anos e outra 58.\n",
        "\n",
        "\n",
        "\n",
        "---\n",
        "\n",
        "### **Expectativa de Renda**\n",
        "Quanto a renda desejável, observamos uma pequena diferença entre mediana e media, cerca de 200 euros, ou seja, existe cidadãos que desejam uma renda significativa em comparação aos outros. Junto a esse fator, temos um dispersão de valores bem maior que tínhamos na idade, com 36%, ou seja, significativamente dispersos.\n",
        "\n",
        "\n",
        "---\n",
        "\n",
        "### **Experiência**\n",
        "Em relação à essa variável, temos media e mediana iguais, ou seja, os valores estão simétricamente distribuidos, apesar disso, temos valores bastante heterogêneos, com amostras sem nenhuma experiência e outras com pelo menso 30 anos, essa análise é refletida pela disperão de 70%, um valor bastante alto, e um desvio padrão de 10 anos de experiência."
      ],
      "metadata": {
        "id": "1zXe-w62H9hD"
      }
    },
    {
      "cell_type": "markdown",
      "source": [
        "## **Parte 2**\n",
        "\n"
      ],
      "metadata": {
        "id": "8l5sc9ZMObGT"
      }
    },
    {
      "cell_type": "markdown",
      "source": [
        "\n",
        "---\n",
        "\n",
        "Agrupe os candidatos por nacionalidade e calcule a renda média desejada e os anos\n",
        "médios de experiência para cada grupo. Qual nacionalidade apresenta a maior renda\n",
        "média desejada? Qual grupo aparenta ser o mais experiente?"
      ],
      "metadata": {
        "id": "TDd_anRiCCjq"
      }
    },
    {
      "cell_type": "code",
      "source": [
        "#Separando em Nacionalidades\n",
        "\n",
        "italianos <- filter(tabela, tabela$Nacionalidade == \"Italiana\")\n",
        "ingleses <- filter(tabela, tabela$Nacionalidade == \"Inglesa\")\n",
        "belgas <- filter(tabela, tabela$Nacionalidade == \"Belga\")\n",
        "espanhois <- filter(tabela, tabela$Nacionalidade == \"Espanhola\")\n",
        "franceses <- filter(tabela, tabela$Nacionalidade == \"Francesa\")\n",
        "alemaes <- filter(tabela, tabela$Nacionalidade == \"Alemana\")\n",
        "\n"
      ],
      "metadata": {
        "id": "Fhy1QeNpO2Kt"
      },
      "execution_count": 4,
      "outputs": []
    },
    {
      "cell_type": "markdown",
      "source": [
        "### **Italianos**"
      ],
      "metadata": {
        "id": "LAXSF80p2jH9"
      }
    },
    {
      "cell_type": "code",
      "source": [
        "italianos\n",
        "\n",
        "italianos_renda_media <- sum(italianos$Renda)/length(italianos$Renda)\n",
        "italianos_experiencia_media <- sum(italianos$`Experiência`)/length(italianos$`Experiência`)\n",
        "\n",
        "\n",
        "R_italianos_renda_media <- mean(italianos$Renda)\n",
        "R_italianos_experiencia_media <- mean(italianos$`Experiência`)\n",
        "\n",
        "\n",
        "cat(\"Resultados:\\n\")\n",
        "cat(\"Alvo          Calculados       X       R     \\n\")\n",
        "cat(\"Renda:         \", italianos_renda_media,\"              \", R_italianos_renda_media, \"\\n\")\n",
        "cat(\"Experiencia:   \", italianos_experiencia_media,\"             \", R_italianos_experiencia_media, \"\\n\")\n",
        "\n"
      ],
      "metadata": {
        "colab": {
          "base_uri": "https://localhost:8080/",
          "height": 421
        },
        "id": "8RdQKSID2icj",
        "outputId": "dd00d62b-29e4-4517-ff15-ce259d5cf557"
      },
      "execution_count": 5,
      "outputs": [
        {
          "output_type": "display_data",
          "data": {
            "text/html": [
              "<table class=\"dataframe\">\n",
              "<caption>A data.frame: 8 × 4</caption>\n",
              "<thead>\n",
              "\t<tr><th scope=col>Idade</th><th scope=col>Nacionalidade</th><th scope=col>Renda</th><th scope=col>Experiência</th></tr>\n",
              "\t<tr><th scope=col>&lt;dbl&gt;</th><th scope=col>&lt;chr&gt;</th><th scope=col>&lt;dbl&gt;</th><th scope=col>&lt;dbl&gt;</th></tr>\n",
              "</thead>\n",
              "<tbody>\n",
              "\t<tr><td>28</td><td>Italiana</td><td>2.3</td><td> 2</td></tr>\n",
              "\t<tr><td>37</td><td>Italiana</td><td>2.1</td><td>15</td></tr>\n",
              "\t<tr><td>39</td><td>Italiana</td><td>1.2</td><td>13</td></tr>\n",
              "\t<tr><td>43</td><td>Italiana</td><td>2.8</td><td>20</td></tr>\n",
              "\t<tr><td>58</td><td>Italiana</td><td>3.4</td><td>32</td></tr>\n",
              "\t<tr><td>52</td><td>Italiana</td><td>1.1</td><td>29</td></tr>\n",
              "\t<tr><td>33</td><td>Italiana</td><td>1.7</td><td> 7</td></tr>\n",
              "\t<tr><td>46</td><td>Italiana</td><td>3.2</td><td>23</td></tr>\n",
              "</tbody>\n",
              "</table>\n"
            ],
            "text/markdown": "\nA data.frame: 8 × 4\n\n| Idade &lt;dbl&gt; | Nacionalidade &lt;chr&gt; | Renda &lt;dbl&gt; | Experiência &lt;dbl&gt; |\n|---|---|---|---|\n| 28 | Italiana | 2.3 |  2 |\n| 37 | Italiana | 2.1 | 15 |\n| 39 | Italiana | 1.2 | 13 |\n| 43 | Italiana | 2.8 | 20 |\n| 58 | Italiana | 3.4 | 32 |\n| 52 | Italiana | 1.1 | 29 |\n| 33 | Italiana | 1.7 |  7 |\n| 46 | Italiana | 3.2 | 23 |\n\n",
            "text/latex": "A data.frame: 8 × 4\n\\begin{tabular}{llll}\n Idade & Nacionalidade & Renda & Experiência\\\\\n <dbl> & <chr> & <dbl> & <dbl>\\\\\n\\hline\n\t 28 & Italiana & 2.3 &  2\\\\\n\t 37 & Italiana & 2.1 & 15\\\\\n\t 39 & Italiana & 1.2 & 13\\\\\n\t 43 & Italiana & 2.8 & 20\\\\\n\t 58 & Italiana & 3.4 & 32\\\\\n\t 52 & Italiana & 1.1 & 29\\\\\n\t 33 & Italiana & 1.7 &  7\\\\\n\t 46 & Italiana & 3.2 & 23\\\\\n\\end{tabular}\n",
            "text/plain": [
              "  Idade Nacionalidade Renda Experiência\n",
              "1 28    Italiana      2.3    2         \n",
              "2 37    Italiana      2.1   15         \n",
              "3 39    Italiana      1.2   13         \n",
              "4 43    Italiana      2.8   20         \n",
              "5 58    Italiana      3.4   32         \n",
              "6 52    Italiana      1.1   29         \n",
              "7 33    Italiana      1.7    7         \n",
              "8 46    Italiana      3.2   23         "
            ]
          },
          "metadata": {}
        },
        {
          "output_type": "stream",
          "name": "stdout",
          "text": [
            "Resultados:\n",
            "Alvo          Calculados       X       R     \n",
            "Renda:          2.225                2.225 \n",
            "Experiencia:    17.625               17.625 \n"
          ]
        }
      ]
    },
    {
      "cell_type": "markdown",
      "source": [
        "### **Ingleses**"
      ],
      "metadata": {
        "id": "qCgH3gKf3iNV"
      }
    },
    {
      "cell_type": "code",
      "source": [
        "ingleses\n",
        "\n",
        "ingleses_renda_media <- sum(ingleses$Renda)/length(ingleses$Renda)\n",
        "ingleses_experiencia_media <- sum(ingleses$`Experiência`)/length(ingleses$`Experiência`)\n",
        "\n",
        "R_ingleses_renda_media <- mean(ingleses$Renda)\n",
        "R_ingleses_experiencia_media <- mean(ingleses$`Experiência`)\n",
        "\n",
        "\n",
        "cat(\"Resultados:\\n\")\n",
        "cat(\"Alvo          Calculados       X       R     \\n\")\n",
        "cat(\"Renda:         \", ingleses_renda_media,\"               \", R_ingleses_renda_media, \"\\n\")\n",
        "cat(\"Experiencia:   \", ingleses_experiencia_media,\"               \", R_ingleses_experiencia_media, \"\\n\")"
      ],
      "metadata": {
        "colab": {
          "base_uri": "https://localhost:8080/",
          "height": 233
        },
        "id": "sIQaQ-2k3k6R",
        "outputId": "6f69194b-5963-416b-925c-100200977fbb"
      },
      "execution_count": 6,
      "outputs": [
        {
          "output_type": "display_data",
          "data": {
            "text/html": [
              "<table class=\"dataframe\">\n",
              "<caption>A data.frame: 2 × 4</caption>\n",
              "<thead>\n",
              "\t<tr><th scope=col>Idade</th><th scope=col>Nacionalidade</th><th scope=col>Renda</th><th scope=col>Experiência</th></tr>\n",
              "\t<tr><th scope=col>&lt;dbl&gt;</th><th scope=col>&lt;chr&gt;</th><th scope=col>&lt;dbl&gt;</th><th scope=col>&lt;dbl&gt;</th></tr>\n",
              "</thead>\n",
              "<tbody>\n",
              "\t<tr><td>34</td><td>Inglesa</td><td>1.6</td><td> 8</td></tr>\n",
              "\t<tr><td>44</td><td>Inglesa</td><td>2.7</td><td>23</td></tr>\n",
              "</tbody>\n",
              "</table>\n"
            ],
            "text/markdown": "\nA data.frame: 2 × 4\n\n| Idade &lt;dbl&gt; | Nacionalidade &lt;chr&gt; | Renda &lt;dbl&gt; | Experiência &lt;dbl&gt; |\n|---|---|---|---|\n| 34 | Inglesa | 1.6 |  8 |\n| 44 | Inglesa | 2.7 | 23 |\n\n",
            "text/latex": "A data.frame: 2 × 4\n\\begin{tabular}{llll}\n Idade & Nacionalidade & Renda & Experiência\\\\\n <dbl> & <chr> & <dbl> & <dbl>\\\\\n\\hline\n\t 34 & Inglesa & 1.6 &  8\\\\\n\t 44 & Inglesa & 2.7 & 23\\\\\n\\end{tabular}\n",
            "text/plain": [
              "  Idade Nacionalidade Renda Experiência\n",
              "1 34    Inglesa       1.6    8         \n",
              "2 44    Inglesa       2.7   23         "
            ]
          },
          "metadata": {}
        },
        {
          "output_type": "stream",
          "name": "stdout",
          "text": [
            "Resultados:\n",
            "Alvo          Calculados       X       R     \n",
            "Renda:          2.15                 2.15 \n",
            "Experiencia:    15.5                 15.5 \n"
          ]
        }
      ]
    },
    {
      "cell_type": "markdown",
      "source": [
        "### **Belgas**"
      ],
      "metadata": {
        "id": "-L4bKccZ5SE5"
      }
    },
    {
      "cell_type": "code",
      "source": [
        "belgas\n",
        "\n",
        "belgas_renda_media <- sum(belgas$Renda)/length(belgas$Renda)\n",
        "belgas_experiencia_media <- sum(belgas$`Experiência`)/length(belgas$`Experiência`)\n",
        "\n",
        "R_belgas_renda_media <- mean(belgas$Renda)\n",
        "R_belgas_experiencia_media <- mean(belgas$`Experiência`)\n",
        "\n",
        "\n",
        "cat(\"Resultados:\\n\")\n",
        "cat(\"Alvo          Calculados       X       R     \\n\")\n",
        "cat(\"Renda:         \", belgas_renda_media,\"                 \", R_belgas_renda_media, \"\\n\")\n",
        "cat(\"Experiencia:   \", belgas_experiencia_media,\"                  \", R_belgas_experiencia_media, \"\\n\")"
      ],
      "metadata": {
        "colab": {
          "base_uri": "https://localhost:8080/",
          "height": 233
        },
        "id": "WyGg8dHb5XTL",
        "outputId": "efab1af0-8230-408f-a2a1-ceaed0859cf1"
      },
      "execution_count": 7,
      "outputs": [
        {
          "output_type": "display_data",
          "data": {
            "text/html": [
              "<table class=\"dataframe\">\n",
              "<caption>A data.frame: 2 × 4</caption>\n",
              "<thead>\n",
              "\t<tr><th scope=col>Idade</th><th scope=col>Nacionalidade</th><th scope=col>Renda</th><th scope=col>Experiência</th></tr>\n",
              "\t<tr><th scope=col>&lt;dbl&gt;</th><th scope=col>&lt;chr&gt;</th><th scope=col>&lt;dbl&gt;</th><th scope=col>&lt;dbl&gt;</th></tr>\n",
              "</thead>\n",
              "<tbody>\n",
              "\t<tr><td>46</td><td>Belga</td><td>1.2</td><td>21</td></tr>\n",
              "\t<tr><td>31</td><td>Belga</td><td>1.4</td><td> 5</td></tr>\n",
              "</tbody>\n",
              "</table>\n"
            ],
            "text/markdown": "\nA data.frame: 2 × 4\n\n| Idade &lt;dbl&gt; | Nacionalidade &lt;chr&gt; | Renda &lt;dbl&gt; | Experiência &lt;dbl&gt; |\n|---|---|---|---|\n| 46 | Belga | 1.2 | 21 |\n| 31 | Belga | 1.4 |  5 |\n\n",
            "text/latex": "A data.frame: 2 × 4\n\\begin{tabular}{llll}\n Idade & Nacionalidade & Renda & Experiência\\\\\n <dbl> & <chr> & <dbl> & <dbl>\\\\\n\\hline\n\t 46 & Belga & 1.2 & 21\\\\\n\t 31 & Belga & 1.4 &  5\\\\\n\\end{tabular}\n",
            "text/plain": [
              "  Idade Nacionalidade Renda Experiência\n",
              "1 46    Belga         1.2   21         \n",
              "2 31    Belga         1.4    5         "
            ]
          },
          "metadata": {}
        },
        {
          "output_type": "stream",
          "name": "stdout",
          "text": [
            "Resultados:\n",
            "Alvo          Calculados       X       R     \n",
            "Renda:          1.3                   1.3 \n",
            "Experiencia:    13                    13 \n"
          ]
        }
      ]
    },
    {
      "cell_type": "markdown",
      "source": [
        "### **Espanhois**"
      ],
      "metadata": {
        "id": "0NePfMCK5vOC"
      }
    },
    {
      "cell_type": "code",
      "source": [
        "espanhois\n",
        "\n",
        "espanhois_renda_media <- sum(espanhois$Renda)/length(espanhois$Renda)\n",
        "espanhois_experiencia_media <- sum(espanhois$`Experiência`)/length(espanhois$`Experiência`)\n",
        "\n",
        "R_espanhois_renda_media <- mean(espanhois$Renda)\n",
        "R_espanhois_experiencia_media <- mean(espanhois$`Experiência`)\n",
        "\n",
        "\n",
        "cat(\"Resultados:\\n\")\n",
        "cat(\"Alvo          Calculados       X       R     \\n\")\n",
        "cat(\"Renda:        \", espanhois_renda_media,\"           \", R_espanhois_renda_media, \"\\n\")\n",
        "cat(\"Experiencia:  \", espanhois_experiencia_media,\"           \", R_espanhois_experiencia_media, \"\\n\")"
      ],
      "metadata": {
        "colab": {
          "base_uri": "https://localhost:8080/",
          "height": 264
        },
        "id": "DDvl3To_6CZs",
        "outputId": "6da02416-3b13-47a0-fc9f-537ff54ce3c4"
      },
      "execution_count": 8,
      "outputs": [
        {
          "output_type": "display_data",
          "data": {
            "text/html": [
              "<table class=\"dataframe\">\n",
              "<caption>A data.frame: 3 × 4</caption>\n",
              "<thead>\n",
              "\t<tr><th scope=col>Idade</th><th scope=col>Nacionalidade</th><th scope=col>Renda</th><th scope=col>Experiência</th></tr>\n",
              "\t<tr><th scope=col>&lt;dbl&gt;</th><th scope=col>&lt;chr&gt;</th><th scope=col>&lt;dbl&gt;</th><th scope=col>&lt;dbl&gt;</th></tr>\n",
              "</thead>\n",
              "<tbody>\n",
              "\t<tr><td>26</td><td>Espanhola</td><td>0.9</td><td>1</td></tr>\n",
              "\t<tr><td>29</td><td>Espanhola</td><td>1.6</td><td>3</td></tr>\n",
              "\t<tr><td>23</td><td>Espanhola</td><td>1.2</td><td>0</td></tr>\n",
              "</tbody>\n",
              "</table>\n"
            ],
            "text/markdown": "\nA data.frame: 3 × 4\n\n| Idade &lt;dbl&gt; | Nacionalidade &lt;chr&gt; | Renda &lt;dbl&gt; | Experiência &lt;dbl&gt; |\n|---|---|---|---|\n| 26 | Espanhola | 0.9 | 1 |\n| 29 | Espanhola | 1.6 | 3 |\n| 23 | Espanhola | 1.2 | 0 |\n\n",
            "text/latex": "A data.frame: 3 × 4\n\\begin{tabular}{llll}\n Idade & Nacionalidade & Renda & Experiência\\\\\n <dbl> & <chr> & <dbl> & <dbl>\\\\\n\\hline\n\t 26 & Espanhola & 0.9 & 1\\\\\n\t 29 & Espanhola & 1.6 & 3\\\\\n\t 23 & Espanhola & 1.2 & 0\\\\\n\\end{tabular}\n",
            "text/plain": [
              "  Idade Nacionalidade Renda Experiência\n",
              "1 26    Espanhola     0.9   1          \n",
              "2 29    Espanhola     1.6   3          \n",
              "3 23    Espanhola     1.2   0          "
            ]
          },
          "metadata": {}
        },
        {
          "output_type": "stream",
          "name": "stdout",
          "text": [
            "Resultados:\n",
            "Alvo          Calculados       X       R     \n",
            "Renda:         1.233333             1.233333 \n",
            "Experiencia:   1.333333             1.333333 \n"
          ]
        }
      ]
    },
    {
      "cell_type": "markdown",
      "source": [
        "### **Franceses**"
      ],
      "metadata": {
        "id": "hcfsFmIF5366"
      }
    },
    {
      "cell_type": "code",
      "source": [
        "franceses\n",
        "\n",
        "franceses_renda_media <- sum(franceses$Renda)/length(franceses$Renda)\n",
        "franceses_experiencia_media <- sum(franceses$`Experiência`)/length(franceses$`Experiência`)\n",
        "\n",
        "R_franceses_renda_media <- mean(franceses$Renda)\n",
        "R_franceses_experiencia_media <- mean(franceses$`Experiência`)\n",
        "\n",
        "\n",
        "cat(\"Resultados:\\n\")\n",
        "cat(\"Alvo          Calculados       X       R     \\n\")\n",
        "cat(\"Renda:          \", franceses_renda_media,\"                \", R_franceses_renda_media, \"\\n\")\n",
        "cat(\"Experiencia:    \", franceses_experiencia_media,\"                 \", R_franceses_experiencia_media, \"\\n\")"
      ],
      "metadata": {
        "colab": {
          "base_uri": "https://localhost:8080/",
          "height": 264
        },
        "id": "BwhqHKf66WQe",
        "outputId": "e39c8793-37b4-4d21-dd6f-baeeee95d702"
      },
      "execution_count": 9,
      "outputs": [
        {
          "output_type": "display_data",
          "data": {
            "text/html": [
              "<table class=\"dataframe\">\n",
              "<caption>A data.frame: 3 × 4</caption>\n",
              "<thead>\n",
              "\t<tr><th scope=col>Idade</th><th scope=col>Nacionalidade</th><th scope=col>Renda</th><th scope=col>Experiência</th></tr>\n",
              "\t<tr><th scope=col>&lt;dbl&gt;</th><th scope=col>&lt;chr&gt;</th><th scope=col>&lt;dbl&gt;</th><th scope=col>&lt;dbl&gt;</th></tr>\n",
              "</thead>\n",
              "<tbody>\n",
              "\t<tr><td>51</td><td>Francesa</td><td>1.8</td><td>28</td></tr>\n",
              "\t<tr><td>25</td><td>Francesa</td><td>1.6</td><td> 1</td></tr>\n",
              "\t<tr><td>48</td><td>Francesa</td><td>2.0</td><td>19</td></tr>\n",
              "</tbody>\n",
              "</table>\n"
            ],
            "text/markdown": "\nA data.frame: 3 × 4\n\n| Idade &lt;dbl&gt; | Nacionalidade &lt;chr&gt; | Renda &lt;dbl&gt; | Experiência &lt;dbl&gt; |\n|---|---|---|---|\n| 51 | Francesa | 1.8 | 28 |\n| 25 | Francesa | 1.6 |  1 |\n| 48 | Francesa | 2.0 | 19 |\n\n",
            "text/latex": "A data.frame: 3 × 4\n\\begin{tabular}{llll}\n Idade & Nacionalidade & Renda & Experiência\\\\\n <dbl> & <chr> & <dbl> & <dbl>\\\\\n\\hline\n\t 51 & Francesa & 1.8 & 28\\\\\n\t 25 & Francesa & 1.6 &  1\\\\\n\t 48 & Francesa & 2.0 & 19\\\\\n\\end{tabular}\n",
            "text/plain": [
              "  Idade Nacionalidade Renda Experiência\n",
              "1 51    Francesa      1.8   28         \n",
              "2 25    Francesa      1.6    1         \n",
              "3 48    Francesa      2.0   19         "
            ]
          },
          "metadata": {}
        },
        {
          "output_type": "stream",
          "name": "stdout",
          "text": [
            "Resultados:\n",
            "Alvo          Calculados       X       R     \n",
            "Renda:           1.8                  1.8 \n",
            "Experiencia:     16                   16 \n"
          ]
        }
      ]
    },
    {
      "cell_type": "markdown",
      "source": [
        "### **Alemães**"
      ],
      "metadata": {
        "id": "PiCJwNdc5-IN"
      }
    },
    {
      "cell_type": "code",
      "source": [
        "alemaes\n",
        "\n",
        "alemaes_renda_media <- sum(alemaes$Renda)/length(alemaes$Renda)\n",
        "alemaes_experiencia_media <- sum(alemaes$`Experiência`)/length(alemaes$`Experiência`)\n",
        "\n",
        "R_alemaes_renda_media <- mean(alemaes$Renda)\n",
        "R_alemaes_experiencia_media <- mean(alemaes$`Experiência`)\n",
        "\n",
        "\n",
        "cat(\"Resultados:\\n\")\n",
        "cat(\"Alvo          Calculados       X       R     \\n\")\n",
        "cat(\"Renda:         \", alemaes_renda_media,\"                 \", R_alemaes_renda_media, \"\\n\")\n",
        "cat(\"Experiencia:   \", alemaes_experiencia_media,\"                  \", R_alemaes_experiencia_media, \"\\n\")"
      ],
      "metadata": {
        "colab": {
          "base_uri": "https://localhost:8080/",
          "height": 233
        },
        "id": "Zl19EnK06vtu",
        "outputId": "99f626a5-90db-45b7-f7c0-5492c4aa8d03"
      },
      "execution_count": 10,
      "outputs": [
        {
          "output_type": "display_data",
          "data": {
            "text/html": [
              "<table class=\"dataframe\">\n",
              "<caption>A data.frame: 2 × 4</caption>\n",
              "<thead>\n",
              "\t<tr><th scope=col>Idade</th><th scope=col>Nacionalidade</th><th scope=col>Renda</th><th scope=col>Experiência</th></tr>\n",
              "\t<tr><th scope=col>&lt;dbl&gt;</th><th scope=col>&lt;chr&gt;</th><th scope=col>&lt;dbl&gt;</th><th scope=col>&lt;dbl&gt;</th></tr>\n",
              "</thead>\n",
              "<tbody>\n",
              "\t<tr><td>42</td><td>Alemana</td><td>2.5</td><td>18</td></tr>\n",
              "\t<tr><td>38</td><td>Alemana</td><td>2.1</td><td>12</td></tr>\n",
              "</tbody>\n",
              "</table>\n"
            ],
            "text/markdown": "\nA data.frame: 2 × 4\n\n| Idade &lt;dbl&gt; | Nacionalidade &lt;chr&gt; | Renda &lt;dbl&gt; | Experiência &lt;dbl&gt; |\n|---|---|---|---|\n| 42 | Alemana | 2.5 | 18 |\n| 38 | Alemana | 2.1 | 12 |\n\n",
            "text/latex": "A data.frame: 2 × 4\n\\begin{tabular}{llll}\n Idade & Nacionalidade & Renda & Experiência\\\\\n <dbl> & <chr> & <dbl> & <dbl>\\\\\n\\hline\n\t 42 & Alemana & 2.5 & 18\\\\\n\t 38 & Alemana & 2.1 & 12\\\\\n\\end{tabular}\n",
            "text/plain": [
              "  Idade Nacionalidade Renda Experiência\n",
              "1 42    Alemana       2.5   18         \n",
              "2 38    Alemana       2.1   12         "
            ]
          },
          "metadata": {}
        },
        {
          "output_type": "stream",
          "name": "stdout",
          "text": [
            "Resultados:\n",
            "Alvo          Calculados       X       R     \n",
            "Renda:          2.3                   2.3 \n",
            "Experiencia:    15                    15 \n"
          ]
        }
      ]
    },
    {
      "cell_type": "markdown",
      "source": [
        "### **Conclusões**"
      ],
      "metadata": {
        "id": "aKCshKC68wV9"
      }
    },
    {
      "cell_type": "code",
      "source": [
        "#Juntando as informações\n",
        "\n",
        "nacionalidade_categoria <- c(\"Italianos\", \"Ingleses\", \"Belgas\", \"Espanhois\", \"Franceses\", \"Alemães\")\n",
        "nacionalidade_renda_media <- c(italianos_renda_media, ingleses_renda_media, belgas_renda_media, espanhois_renda_media, franceses_renda_media, alemaes_renda_media)\n",
        "nacionalidade_experiencia_media <- c(italianos_experiencia_media, ingleses_experiencia_media, belgas_experiencia_media, espanhois_experiencia_media, franceses_experiencia_media, alemaes_experiencia_media)\n",
        "\n",
        "#Nota: Adicionaremos o de idade, pois nos será útil posteriomente\n",
        "\n",
        "infos <- data.frame(Nacionalidade = nacionalidade_categoria, Renda = nacionalidade_renda_media, Experiencia = nacionalidade_experiencia_media)\n",
        "\n",
        "ggplot(infos, aes(x=Nacionalidade, y=Renda)) +\n",
        "  geom_bar(stat = \"identity\")\n",
        "\n",
        "ggplot(infos, aes(x=Nacionalidade, y=Experiencia)) +\n",
        "  geom_bar(stat = \"identity\")\n"
      ],
      "metadata": {
        "colab": {
          "base_uri": "https://localhost:8080/",
          "height": 857
        },
        "id": "JJA5qrqJ8zyK",
        "outputId": "aa4ca0e2-0b15-49d3-b8b3-3bed359c6d18"
      },
      "execution_count": 11,
      "outputs": [
        {
          "output_type": "display_data",
          "data": {
            "text/plain": [
              "plot without title"
            ],
            "image/png": "[encoded data removed]"
          },
          "metadata": {
            "image/png": {
              "width": 420,
              "height": 420
            }
          }
        },
        {
          "output_type": "display_data",
          "data": {
            "text/plain": [
              "plot without title"
            ],
            "image/png": "[encoded data removed]"
          },
          "metadata": {
            "image/png": {
              "width": 420,
              "height": 420
            }
          }
        }
      ]
    },
    {
      "cell_type": "markdown",
      "source": [
        "Pelos gráficos e valores, podemos ver que em média, nessa empresa, os Italianos são aqueles que mais contém mais experiência, enquanto isso, os alemães são aqueles que, em média, têm a maior renda desejada."
      ],
      "metadata": {
        "id": "JinFehfYA2Kr"
      }
    },
    {
      "cell_type": "markdown",
      "source": [
        "## **Parte 3**\n",
        "\n",
        "\n",
        "\n",
        "\n"
      ],
      "metadata": {
        "id": "q8F3UKB6QvF6"
      }
    },
    {
      "cell_type": "markdown",
      "source": [
        "---\n",
        "\n",
        "Existe correlação entre anos de experiência e renda desejada? Utilize ferramentas visu-\n",
        "ais apropriadas (por exemplo, gráfico de dispersão) e calcule o coeficiente de correlação\n",
        "de Pearson. Interprete o resultado"
      ],
      "metadata": {
        "id": "ecvYgZSyCMr6"
      }
    },
    {
      "cell_type": "code",
      "source": [
        "plot(experiencia, renda)\n",
        "\n",
        "\n",
        "#Calculando o coeficiente de Correlação de Pearson\n",
        "\n",
        "num = sum((renda - renda_media) * (experiencia - experiencia_media))\n",
        "den = sqrt(sum((renda - renda_media)**2)) * sqrt(sum((experiencia - experiencia_media)**2))\n",
        "\n",
        "p = num/den\n",
        "R_p = cor(renda, experiencia, method = 'pearson')\n",
        "\n",
        "p\n",
        "R_p"
      ],
      "metadata": {
        "colab": {
          "base_uri": "https://localhost:8080/",
          "height": 472
        },
        "id": "BR2lnxCpQ5Gr",
        "outputId": "07ef086b-ec2d-48bf-9fbb-b312329cfaac"
      },
      "execution_count": 12,
      "outputs": [
        {
          "output_type": "display_data",
          "data": {
            "text/html": [
              "0.49776715001041"
            ],
            "text/markdown": "0.49776715001041",
            "text/latex": "0.49776715001041",
            "text/plain": [
              "[1] 0.4977672"
            ]
          },
          "metadata": {}
        },
        {
          "output_type": "display_data",
          "data": {
            "text/html": [
              "0.497767150010409"
            ],
            "text/markdown": "0.497767150010409",
            "text/latex": "0.497767150010409",
            "text/plain": [
              "[1] 0.4977672"
            ]
          },
          "metadata": {}
        },
        {
          "output_type": "display_data",
          "data": {
            "text/plain": [
              "plot without title"
            ],
            "image/png": "[encoded data removed]"
          },
          "metadata": {
            "image/png": {
              "width": 420,
              "height": 420
            }
          }
        }
      ]
    },
    {
      "cell_type": "markdown",
      "source": [
        "### **Dedução**\n",
        "\n",
        "\n",
        "---\n",
        "\n",
        "Sim, existe uma correlação, ela pode ser evidenciada pelo coeficiente de Paerson, que indica a correção entre valores, e tendo um resultado p = 0.498, podemos concluir, já que o contexto é algo social, pode ser considerada uma correlação moderada."
      ],
      "metadata": {
        "id": "MOhbrOSzRTMW"
      }
    },
    {
      "cell_type": "markdown",
      "source": [
        "## **Parte 4**\n"
      ],
      "metadata": {
        "id": "3B9Ivq1sVjnl"
      }
    },
    {
      "cell_type": "markdown",
      "source": [
        "\n",
        "\n",
        "---\n",
        "\n",
        "Suponha que a empresa queira priorizar candidatos com pelo menos 10 anos de experiência e renda desejada inferior a 2,0 (mil euros). Quantos candidatos atendem a ambos\n",
        "os critérios? Liste suas nacionalidades e idades"
      ],
      "metadata": {
        "id": "5z3zyYvGCTAn"
      }
    },
    {
      "cell_type": "code",
      "source": [
        "tabela_filtrada <- filter(tabela, tabela$`Experiência` >= 10, tabela$Renda < 2.0)\n",
        "\n",
        "print(tabela_filtrada)\n"
      ],
      "metadata": {
        "colab": {
          "base_uri": "https://localhost:8080/"
        },
        "id": "TIpwkc0wV_cJ",
        "outputId": "a0bf854c-51c9-4ac4-841f-090feb97eb05"
      },
      "execution_count": 13,
      "outputs": [
        {
          "output_type": "stream",
          "name": "stdout",
          "text": [
            "  Idade Nacionalidade Renda Experiência\n",
            "1    46         Belga   1.2          21\n",
            "2    51      Francesa   1.8          28\n",
            "3    39      Italiana   1.2          13\n",
            "4    52      Italiana   1.1          29\n"
          ]
        }
      ]
    },
    {
      "cell_type": "markdown",
      "source": [
        "### **Resultado**\n",
        "Como podemos ver, sobraram-se 4 pessoas que atendem os pre-requisitos de terem pelo menos 10 anos de experiencia e terem a renda desejada de 2 mil euros, sendo elas: Um belga de 46 anos, um francês de 51 anos e dois italianos, um de 39 ou o outro de 52 anos.\n",
        "\n",
        "\n",
        "\n",
        "---\n",
        "Nota: Manualmente, fazer esse trabalho significa anular cada linha em que a pessoa tinha expericnia < 10 e/ou renda desejada >= 2.0.\n"
      ],
      "metadata": {
        "id": "5QVJjn39cVP7"
      }
    },
    {
      "cell_type": "markdown",
      "source": [
        "## **Parte 5**\n",
        "\n",
        "\n",
        "\n"
      ],
      "metadata": {
        "id": "LPv1q_hmVnQr"
      }
    },
    {
      "cell_type": "markdown",
      "source": [
        "---\n",
        "\n",
        "Construa gráficos que permitam visualizar a distribuição da idade e da renda desejada,\n",
        "separados por nacionalidade. Utilize histogramas, box-plots ou gráficos de barras, e\n",
        "comente as principais diferenças observadas entre os grupo.\n"
      ],
      "metadata": {
        "id": "MlIx4_tjCXI3"
      }
    },
    {
      "cell_type": "code",
      "source": [
        "#=====================================================#\n",
        "\n",
        "#Nota: Utilizaremos a tabela chamada \"tabela\" feita no\n",
        "#começo da atividade.\n",
        "\n",
        "#Para isso, usaremos um gráfico de dispersão com todos\n",
        "#os participantes e diferenciaremos a nacinalidade de\n",
        "#cada grupo por meio da cor e simbolo\n",
        "\n",
        "\n",
        "#Paralelamente, utilizaremos um gráfico barplot para\n",
        "#visualizar a idade e renda, separadamente, dos\n",
        "#participantes\n",
        "#=====================================================#\n",
        "\n",
        "\n",
        "\n"
      ],
      "metadata": {
        "id": "e_pfa6mdCpaN"
      },
      "execution_count": 14,
      "outputs": []
    },
    {
      "cell_type": "code",
      "source": [
        "ggplot(tabela, aes(x=Idade, y=Renda, color=Nacionalidade, shape=Nacionalidade)) +\n",
        "    geom_point(size = 6)\n",
        "\n"
      ],
      "metadata": {
        "colab": {
          "base_uri": "https://localhost:8080/",
          "height": 437
        },
        "id": "WtjViFneC8Wp",
        "outputId": "80060cfc-791a-48df-88b1-cf2f01cc77bc"
      },
      "execution_count": 37,
      "outputs": [
        {
          "output_type": "display_data",
          "data": {
            "text/plain": [
              "plot without title"
            ],
            "image/png": "[encoded data removed]"
          },
          "metadata": {
            "image/png": {
              "width": 420,
              "height": 420
            }
          }
        }
      ]
    },
    {
      "cell_type": "code",
      "source": [
        "#Box plot para Renda\n",
        "\n",
        "ggplot(tabela, aes(x = Nacionalidade, y = Renda, fill = Nacionalidade)) +\n",
        "  geom_boxplot() +\n",
        "  labs(title = \"Distribuição da Renda Desejada por Nacionalidade\")\n"
      ],
      "metadata": {
        "colab": {
          "base_uri": "https://localhost:8080/",
          "height": 437
        },
        "id": "LeFcr9k8beqq",
        "outputId": "499c4f04-542a-421d-ae01-5e10a1c77119"
      },
      "execution_count": 38,
      "outputs": [
        {
          "output_type": "display_data",
          "data": {
            "text/plain": [
              "plot without title"
            ],
            "image/png": "[encoded data removed]"
          },
          "metadata": {
            "image/png": {
              "width": 420,
              "height": 420
            }
          }
        }
      ]
    },
    {
      "cell_type": "code",
      "source": [
        "#Box plot para idade\n",
        "\n",
        "ggplot(tabela, aes(x = Nacionalidade, y = Idade, fill = Nacionalidade)) +\n",
        "  geom_boxplot() +\n",
        "  labs(title = \"Distribuição de Idade por Nacionalidade\")"
      ],
      "metadata": {
        "colab": {
          "base_uri": "https://localhost:8080/",
          "height": 437
        },
        "id": "CNPtJnwlbfD7",
        "outputId": "3efe8ce4-c655-48c5-8773-601f5ba38f2c"
      },
      "execution_count": 39,
      "outputs": [
        {
          "output_type": "display_data",
          "data": {
            "text/plain": [
              "plot without title"
            ],
            "image/png": "[encoded data removed]"
          },
          "metadata": {
            "image/png": {
              "width": 420,
              "height": 420
            }
          }
        }
      ]
    },
    {
      "cell_type": "markdown",
      "source": [
        "### **Caracteristicas Observadas**\n",
        "\n",
        "\n",
        "---\n",
        "\n"
      ],
      "metadata": {
        "id": "0uKSHXrVHSIH"
      }
    },
    {
      "cell_type": "markdown",
      "source": [
        "#### **Geral**"
      ],
      "metadata": {
        "id": "ES4hbrWKY5gl"
      }
    },
    {
      "cell_type": "code",
      "source": [
        "#Informações importantes\n",
        "cat(\"Operação:        Idade     x    Renda Desejada\\n\")\n",
        "\n",
        "#Medias\n",
        "cat(\"Média           \", idade_media, \"            \", renda_media, \"\\n\")\n",
        "\n",
        "#Medianas\n",
        "cat(\"Médiana         \", idade_mediana, \"             \", renda_mediana, \"\\n\")\n",
        "\n",
        "#Desvio Padrão\n",
        "cat(\"Desvio Padrão   \", idade_desvio_padrao, \"        \", renda_desvio_padrao, \"\\n\")\n"
      ],
      "metadata": {
        "colab": {
          "base_uri": "https://localhost:8080/"
        },
        "id": "w6p4MV23T-ud",
        "outputId": "53be7516-5230-4f1a-bb89-433bd1542fbb"
      },
      "execution_count": 16,
      "outputs": [
        {
          "output_type": "stream",
          "name": "stdout",
          "text": [
            "Operação:        Idade     x    Renda Desejada\n",
            "Média            38.65              1.92 \n",
            "Médiana          38.5               1.75 \n",
            "Desvio Padrão    9.67613          0.6954135 \n"
          ]
        }
      ]
    },
    {
      "cell_type": "markdown",
      "source": [
        "#### **Analise Geral**\n",
        "\n",
        "\n",
        "---\n",
        "\n",
        "\n",
        "##### **Renda**\n",
        "Pode ser observado pelo Box-plot que há uma clara divisão entre o grupo de Ingleses, Alemães e Italianos, em relação ao de Belgas, espanhões e Frances, cuja divisão se centraliza na **Renda desejada** de 2 mil euros, em que todos os membros do primeiro grupo estão na metade superior, enquanto o segundo grupo, na metade inferior.\n",
        "\n",
        "Os Italianos são aqueles que apresentam a maior dispersão de valores, maior intervalo interquartil, isso deve ocorrer, principalmente, por conta da quantidade maior de amostras.\n",
        "\n",
        "Enquanto isso, os Belgas são aqueles com a menor dispersão.\n",
        "\n",
        "\n",
        "---\n",
        "\n",
        "\n",
        "##### **Idade**\n",
        "Os grupo de espanhois contém os particpantes mais jovens, com todos os indivíduos mais novos que 30 anos. Enquanto isso, o grupo de franceses contém a mediana de idade mais elevada.\n",
        "\n",
        "Os grupos de Italianos de Franceses são aqueles que apresentam uma maior diversidade de idade em seus integrantes.\n",
        "\n",
        "Os demais grupos aprentam medianas de idade próximas aos 40 anos.\n"
      ],
      "metadata": {
        "id": "DH7vbNtAkHYr"
      }
    },
    {
      "cell_type": "markdown",
      "source": [
        "#### **Espanhois**\n",
        "  São aquelas que têm a menor **Idade** e ao mesmo tempo, são os com a menor **Renda desejada**. Por conta da pouca quantidade de amostras não podemos concluir com toda a certeza que existe uma relação direta."
      ],
      "metadata": {
        "id": "KccJZLcdHZSa"
      }
    },
    {
      "cell_type": "code",
      "source": [
        "espanhois"
      ],
      "metadata": {
        "colab": {
          "base_uri": "https://localhost:8080/",
          "height": 192
        },
        "id": "BO0k64V4V-ML",
        "outputId": "60698947-7210-406a-d3b5-4abe0c76ceba"
      },
      "execution_count": 17,
      "outputs": [
        {
          "output_type": "display_data",
          "data": {
            "text/html": [
              "<table class=\"dataframe\">\n",
              "<caption>A data.frame: 3 × 4</caption>\n",
              "<thead>\n",
              "\t<tr><th scope=col>Idade</th><th scope=col>Nacionalidade</th><th scope=col>Renda</th><th scope=col>Experiência</th></tr>\n",
              "\t<tr><th scope=col>&lt;dbl&gt;</th><th scope=col>&lt;chr&gt;</th><th scope=col>&lt;dbl&gt;</th><th scope=col>&lt;dbl&gt;</th></tr>\n",
              "</thead>\n",
              "<tbody>\n",
              "\t<tr><td>26</td><td>Espanhola</td><td>0.9</td><td>1</td></tr>\n",
              "\t<tr><td>29</td><td>Espanhola</td><td>1.6</td><td>3</td></tr>\n",
              "\t<tr><td>23</td><td>Espanhola</td><td>1.2</td><td>0</td></tr>\n",
              "</tbody>\n",
              "</table>\n"
            ],
            "text/markdown": "\nA data.frame: 3 × 4\n\n| Idade &lt;dbl&gt; | Nacionalidade &lt;chr&gt; | Renda &lt;dbl&gt; | Experiência &lt;dbl&gt; |\n|---|---|---|---|\n| 26 | Espanhola | 0.9 | 1 |\n| 29 | Espanhola | 1.6 | 3 |\n| 23 | Espanhola | 1.2 | 0 |\n\n",
            "text/latex": "A data.frame: 3 × 4\n\\begin{tabular}{llll}\n Idade & Nacionalidade & Renda & Experiência\\\\\n <dbl> & <chr> & <dbl> & <dbl>\\\\\n\\hline\n\t 26 & Espanhola & 0.9 & 1\\\\\n\t 29 & Espanhola & 1.6 & 3\\\\\n\t 23 & Espanhola & 1.2 & 0\\\\\n\\end{tabular}\n",
            "text/plain": [
              "  Idade Nacionalidade Renda Experiência\n",
              "1 26    Espanhola     0.9   1          \n",
              "2 29    Espanhola     1.6   3          \n",
              "3 23    Espanhola     1.2   0          "
            ]
          },
          "metadata": {}
        }
      ]
    },
    {
      "cell_type": "markdown",
      "source": [
        "#### **Italianos**\n",
        "É a nacionalidade em que se têm a maior quantidade de amostras/participantes, estão distribuidos por todo o gráfico, apesar disso, pela quantiadade de amostras, pode-se observa uma tendencia à de uma relação direta entre **Idade** e **Renda desejada**, apesar de ser fraca.\n",
        "\n",
        "Pelo Box-Plot, podemos observar uma dispersão de alta de valores em **Idade** e **Renda desejada**, sendo aquela que contém o maior diferença entra quartils em **Renda** e segunda maior em **Idade**."
      ],
      "metadata": {
        "id": "nA96_u6PIAZ6"
      }
    },
    {
      "cell_type": "code",
      "source": [
        "#Observando essa tendencia pelo coeficiente de Pearson:\n",
        "#Nota 1: Utilizarei a tabela filtrada de Italianos feita na parte 3.\n",
        "#Nota 2: Utilizar a correlação de Pearson parece ser correta, pois podemos\n",
        "#assumir que os indivíduos Italianos não se conhecem e a única correlação direta\n",
        "#que podemos assumir entre eles é a Nacionalidade\n",
        "\n",
        "italianos\n",
        "\n",
        "italianos_p = cor(italianos$Renda, italianos$Idade, method = 'pearson')\n",
        "\n",
        "cat(\"Coeficiente: \", italianos_p, \"\\n\")\n"
      ],
      "metadata": {
        "colab": {
          "base_uri": "https://localhost:8080/",
          "height": 367
        },
        "id": "WWERTXJuIvEE",
        "outputId": "8c7a29e2-da44-4de8-9354-52285ecc394e"
      },
      "execution_count": 18,
      "outputs": [
        {
          "output_type": "display_data",
          "data": {
            "text/html": [
              "<table class=\"dataframe\">\n",
              "<caption>A data.frame: 8 × 4</caption>\n",
              "<thead>\n",
              "\t<tr><th scope=col>Idade</th><th scope=col>Nacionalidade</th><th scope=col>Renda</th><th scope=col>Experiência</th></tr>\n",
              "\t<tr><th scope=col>&lt;dbl&gt;</th><th scope=col>&lt;chr&gt;</th><th scope=col>&lt;dbl&gt;</th><th scope=col>&lt;dbl&gt;</th></tr>\n",
              "</thead>\n",
              "<tbody>\n",
              "\t<tr><td>28</td><td>Italiana</td><td>2.3</td><td> 2</td></tr>\n",
              "\t<tr><td>37</td><td>Italiana</td><td>2.1</td><td>15</td></tr>\n",
              "\t<tr><td>39</td><td>Italiana</td><td>1.2</td><td>13</td></tr>\n",
              "\t<tr><td>43</td><td>Italiana</td><td>2.8</td><td>20</td></tr>\n",
              "\t<tr><td>58</td><td>Italiana</td><td>3.4</td><td>32</td></tr>\n",
              "\t<tr><td>52</td><td>Italiana</td><td>1.1</td><td>29</td></tr>\n",
              "\t<tr><td>33</td><td>Italiana</td><td>1.7</td><td> 7</td></tr>\n",
              "\t<tr><td>46</td><td>Italiana</td><td>3.2</td><td>23</td></tr>\n",
              "</tbody>\n",
              "</table>\n"
            ],
            "text/markdown": "\nA data.frame: 8 × 4\n\n| Idade &lt;dbl&gt; | Nacionalidade &lt;chr&gt; | Renda &lt;dbl&gt; | Experiência &lt;dbl&gt; |\n|---|---|---|---|\n| 28 | Italiana | 2.3 |  2 |\n| 37 | Italiana | 2.1 | 15 |\n| 39 | Italiana | 1.2 | 13 |\n| 43 | Italiana | 2.8 | 20 |\n| 58 | Italiana | 3.4 | 32 |\n| 52 | Italiana | 1.1 | 29 |\n| 33 | Italiana | 1.7 |  7 |\n| 46 | Italiana | 3.2 | 23 |\n\n",
            "text/latex": "A data.frame: 8 × 4\n\\begin{tabular}{llll}\n Idade & Nacionalidade & Renda & Experiência\\\\\n <dbl> & <chr> & <dbl> & <dbl>\\\\\n\\hline\n\t 28 & Italiana & 2.3 &  2\\\\\n\t 37 & Italiana & 2.1 & 15\\\\\n\t 39 & Italiana & 1.2 & 13\\\\\n\t 43 & Italiana & 2.8 & 20\\\\\n\t 58 & Italiana & 3.4 & 32\\\\\n\t 52 & Italiana & 1.1 & 29\\\\\n\t 33 & Italiana & 1.7 &  7\\\\\n\t 46 & Italiana & 3.2 & 23\\\\\n\\end{tabular}\n",
            "text/plain": [
              "  Idade Nacionalidade Renda Experiência\n",
              "1 28    Italiana      2.3    2         \n",
              "2 37    Italiana      2.1   15         \n",
              "3 39    Italiana      1.2   13         \n",
              "4 43    Italiana      2.8   20         \n",
              "5 58    Italiana      3.4   32         \n",
              "6 52    Italiana      1.1   29         \n",
              "7 33    Italiana      1.7    7         \n",
              "8 46    Italiana      3.2   23         "
            ]
          },
          "metadata": {}
        },
        {
          "output_type": "stream",
          "name": "stdout",
          "text": [
            "Coeficiente:  0.3229702 \n"
          ]
        }
      ]
    },
    {
      "cell_type": "markdown",
      "source": [
        "#### **Alemães**\n",
        "Estão próximos da média total tanto em **Idade** quanto em **Renda Desejada**, sua distribuição, apesar de não podemos concluir com certeza por conta da quantidade de amostras, é que há a tendencia de ter uma relação diretamente proporcional entre **Idade** e **Renda Desejada**.\n",
        "\n",
        "Obs: Suas amostras se diferenciam menos do que um **Desvio Padrão** tanto em **Idade** quanto **Renda Desejada**.\n",
        "\n",
        "Pelo diagrama de Box-Plot, podemos perceber visualmente o que foi expresso pelo desvio padrão, valores muito próximos, homogeneos, tanto em **Idade** quanto em **Renda Desejada**."
      ],
      "metadata": {
        "id": "-zrwbtBePext"
      }
    },
    {
      "cell_type": "code",
      "source": [
        "alemaes\n",
        "\n",
        "alemaes_idade_media <- sum(alemaes$Idade)/length(alemaes$Idade)\n",
        "\n",
        "\n",
        "cat(\"Médias:\\n\")\n",
        "cat(\"Idade:\\n\")\n",
        "cat(\"Total: \", idade_media, \"| Alemã: \", alemaes_idade_media, \"\\n\")\n",
        "\n",
        "cat(\"Renda desejada\\n\")\n",
        "cat(\"Total: \", renda_media, \"| Alemã: \", alemaes_renda_media, \"\\n\")\n",
        "\n",
        "\n"
      ],
      "metadata": {
        "colab": {
          "base_uri": "https://localhost:8080/",
          "height": 251
        },
        "id": "T6ckgViBQOQO",
        "outputId": "c42fa338-3253-45ef-cba7-8f9f7dba2125"
      },
      "execution_count": 43,
      "outputs": [
        {
          "output_type": "display_data",
          "data": {
            "text/html": [
              "<table class=\"dataframe\">\n",
              "<caption>A data.frame: 2 × 4</caption>\n",
              "<thead>\n",
              "\t<tr><th scope=col>Idade</th><th scope=col>Nacionalidade</th><th scope=col>Renda</th><th scope=col>Experiência</th></tr>\n",
              "\t<tr><th scope=col>&lt;dbl&gt;</th><th scope=col>&lt;chr&gt;</th><th scope=col>&lt;dbl&gt;</th><th scope=col>&lt;dbl&gt;</th></tr>\n",
              "</thead>\n",
              "<tbody>\n",
              "\t<tr><td>42</td><td>Alemana</td><td>2.5</td><td>18</td></tr>\n",
              "\t<tr><td>38</td><td>Alemana</td><td>2.1</td><td>12</td></tr>\n",
              "</tbody>\n",
              "</table>\n"
            ],
            "text/markdown": "\nA data.frame: 2 × 4\n\n| Idade &lt;dbl&gt; | Nacionalidade &lt;chr&gt; | Renda &lt;dbl&gt; | Experiência &lt;dbl&gt; |\n|---|---|---|---|\n| 42 | Alemana | 2.5 | 18 |\n| 38 | Alemana | 2.1 | 12 |\n\n",
            "text/latex": "A data.frame: 2 × 4\n\\begin{tabular}{llll}\n Idade & Nacionalidade & Renda & Experiência\\\\\n <dbl> & <chr> & <dbl> & <dbl>\\\\\n\\hline\n\t 42 & Alemana & 2.5 & 18\\\\\n\t 38 & Alemana & 2.1 & 12\\\\\n\\end{tabular}\n",
            "text/plain": [
              "  Idade Nacionalidade Renda Experiência\n",
              "1 42    Alemana       2.5   18         \n",
              "2 38    Alemana       2.1   12         "
            ]
          },
          "metadata": {}
        },
        {
          "output_type": "stream",
          "name": "stdout",
          "text": [
            "Médias:\n",
            "Idade:\n",
            "Total:  38.65 | Alemã:  40 \n",
            "Renda desejada\n",
            "Total:  1.92 | Alemã:  2.3 \n"
          ]
        }
      ]
    },
    {
      "cell_type": "markdown",
      "source": [
        "#### **Belgas**\n",
        "Têm **Idade** bem distribuida, com valores acima e abaixo da média e mediana globar, apesar disso, são aqueles com a **Renda Desejada** abaixo da média e mediana global.\n",
        "\n",
        "\n",
        "Podemos perceber pelo Box-Plot que os valores de **Renda Desejada** são próximos aos dos espanhois, apesar de serem ligeiramente maiores, sendo também mais homogêneos. Ao mesmo tempo, têm valores de **Idade** bem mais esparços.\n"
      ],
      "metadata": {
        "id": "C-PJVi5APxhR"
      }
    },
    {
      "cell_type": "code",
      "source": [
        "belgas"
      ],
      "metadata": {
        "colab": {
          "base_uri": "https://localhost:8080/",
          "height": 161
        },
        "id": "I4yBvnDCV6hI",
        "outputId": "6f627ca2-79ec-4eac-fb48-d6fbfa29d10f"
      },
      "execution_count": 20,
      "outputs": [
        {
          "output_type": "display_data",
          "data": {
            "text/html": [
              "<table class=\"dataframe\">\n",
              "<caption>A data.frame: 2 × 4</caption>\n",
              "<thead>\n",
              "\t<tr><th scope=col>Idade</th><th scope=col>Nacionalidade</th><th scope=col>Renda</th><th scope=col>Experiência</th></tr>\n",
              "\t<tr><th scope=col>&lt;dbl&gt;</th><th scope=col>&lt;chr&gt;</th><th scope=col>&lt;dbl&gt;</th><th scope=col>&lt;dbl&gt;</th></tr>\n",
              "</thead>\n",
              "<tbody>\n",
              "\t<tr><td>46</td><td>Belga</td><td>1.2</td><td>21</td></tr>\n",
              "\t<tr><td>31</td><td>Belga</td><td>1.4</td><td> 5</td></tr>\n",
              "</tbody>\n",
              "</table>\n"
            ],
            "text/markdown": "\nA data.frame: 2 × 4\n\n| Idade &lt;dbl&gt; | Nacionalidade &lt;chr&gt; | Renda &lt;dbl&gt; | Experiência &lt;dbl&gt; |\n|---|---|---|---|\n| 46 | Belga | 1.2 | 21 |\n| 31 | Belga | 1.4 |  5 |\n\n",
            "text/latex": "A data.frame: 2 × 4\n\\begin{tabular}{llll}\n Idade & Nacionalidade & Renda & Experiência\\\\\n <dbl> & <chr> & <dbl> & <dbl>\\\\\n\\hline\n\t 46 & Belga & 1.2 & 21\\\\\n\t 31 & Belga & 1.4 &  5\\\\\n\\end{tabular}\n",
            "text/plain": [
              "  Idade Nacionalidade Renda Experiência\n",
              "1 46    Belga         1.2   21         \n",
              "2 31    Belga         1.4    5         "
            ]
          },
          "metadata": {}
        }
      ]
    },
    {
      "cell_type": "markdown",
      "source": [
        "#### **Fraceses**\n",
        "Estão bem esparços em questão de **Idade**, com valores tanto abaixo, quanto acima da média e mediana, apesar disso, esses mesmo valores se aproximam do total, ao isolarmos esse grupo. Quanto a **Renda Desejada**, estão próximos, mas com a tendência a ser menor, da média e mediana total.\n"
      ],
      "metadata": {
        "id": "zbo1HliFP4Sf"
      }
    },
    {
      "cell_type": "code",
      "source": [
        "franceses\n",
        "franceses_idade_media <- sum(franceses$Idade)/length(franceses$Idade)\n",
        "franceses_idade_dp <- sd(franceses$Idade)\n",
        "franceses_dispersão <- franceses_idade_dp/franceses_idade_media\n",
        "\n",
        "cat(\"Idade média: \", franceses_idade_media ,\"\\n\")\n",
        "cat(\"Desvio Padrão das idades: \", franceses_dp, \"\\n\")\n",
        "cat(\"Dipsersão: \", franceses_dispersão ,\"\\n\")"
      ],
      "metadata": {
        "colab": {
          "base_uri": "https://localhost:8080/",
          "height": 246
        },
        "id": "620jdUszW66a",
        "outputId": "41eab248-a52a-461e-e855-7c41c1e69757"
      },
      "execution_count": 49,
      "outputs": [
        {
          "output_type": "display_data",
          "data": {
            "text/html": [
              "<table class=\"dataframe\">\n",
              "<caption>A data.frame: 3 × 4</caption>\n",
              "<thead>\n",
              "\t<tr><th scope=col>Idade</th><th scope=col>Nacionalidade</th><th scope=col>Renda</th><th scope=col>Experiência</th></tr>\n",
              "\t<tr><th scope=col>&lt;dbl&gt;</th><th scope=col>&lt;chr&gt;</th><th scope=col>&lt;dbl&gt;</th><th scope=col>&lt;dbl&gt;</th></tr>\n",
              "</thead>\n",
              "<tbody>\n",
              "\t<tr><td>51</td><td>Francesa</td><td>1.8</td><td>28</td></tr>\n",
              "\t<tr><td>25</td><td>Francesa</td><td>1.6</td><td> 1</td></tr>\n",
              "\t<tr><td>48</td><td>Francesa</td><td>2.0</td><td>19</td></tr>\n",
              "</tbody>\n",
              "</table>\n"
            ],
            "text/markdown": "\nA data.frame: 3 × 4\n\n| Idade &lt;dbl&gt; | Nacionalidade &lt;chr&gt; | Renda &lt;dbl&gt; | Experiência &lt;dbl&gt; |\n|---|---|---|---|\n| 51 | Francesa | 1.8 | 28 |\n| 25 | Francesa | 1.6 |  1 |\n| 48 | Francesa | 2.0 | 19 |\n\n",
            "text/latex": "A data.frame: 3 × 4\n\\begin{tabular}{llll}\n Idade & Nacionalidade & Renda & Experiência\\\\\n <dbl> & <chr> & <dbl> & <dbl>\\\\\n\\hline\n\t 51 & Francesa & 1.8 & 28\\\\\n\t 25 & Francesa & 1.6 &  1\\\\\n\t 48 & Francesa & 2.0 & 19\\\\\n\\end{tabular}\n",
            "text/plain": [
              "  Idade Nacionalidade Renda Experiência\n",
              "1 51    Francesa      1.8   28         \n",
              "2 25    Francesa      1.6    1         \n",
              "3 48    Francesa      2.0   19         "
            ]
          },
          "metadata": {}
        },
        {
          "output_type": "stream",
          "name": "stdout",
          "text": [
            "Idade média:  41.33333 \n",
            "Desvio Padrão das idades:  14.22439 \n",
            "Dipsersão:  0.3441385 \n"
          ]
        }
      ]
    },
    {
      "cell_type": "markdown",
      "source": [
        "#### **Ingleses**\n",
        "\n",
        "Ao se tratar de média e distribuição, apresentam caracteristicas semelhantes aos alemães, apesar disso, suas amostras mostram-se mais espaças, com uma diferença maior do que um desvio padrão tanto em **Idade** quanto na **Renda desejada**.\n",
        "\n",
        "\n",
        "Pelo Box-Plot, podemos ver que a madiana, tanto da **Idade** quanto da **Renda Desejada** se aproximam da dos Italianos, apesar disso, seus valores, apresentam-se mais homogêneos, com quartils bem mais próximos, essa análise ocorre principalmente pela pouca quantidade inglesas."
      ],
      "metadata": {
        "id": "DYqjq2AaP8jj"
      }
    },
    {
      "cell_type": "code",
      "source": [
        "ingleses\n",
        "\n",
        "ingleses_idade_media <- sum(ingleses$Idade)/length(ingleses$Idade)\n",
        "\n",
        "ingleses_idade_media\n"
      ],
      "metadata": {
        "colab": {
          "base_uri": "https://localhost:8080/",
          "height": 178
        },
        "id": "d-_NXJ9ZSP__",
        "outputId": "667caeb0-f9d4-419b-c105-2caa634c3d47"
      },
      "execution_count": 22,
      "outputs": [
        {
          "output_type": "display_data",
          "data": {
            "text/html": [
              "<table class=\"dataframe\">\n",
              "<caption>A data.frame: 2 × 4</caption>\n",
              "<thead>\n",
              "\t<tr><th scope=col>Idade</th><th scope=col>Nacionalidade</th><th scope=col>Renda</th><th scope=col>Experiência</th></tr>\n",
              "\t<tr><th scope=col>&lt;dbl&gt;</th><th scope=col>&lt;chr&gt;</th><th scope=col>&lt;dbl&gt;</th><th scope=col>&lt;dbl&gt;</th></tr>\n",
              "</thead>\n",
              "<tbody>\n",
              "\t<tr><td>34</td><td>Inglesa</td><td>1.6</td><td> 8</td></tr>\n",
              "\t<tr><td>44</td><td>Inglesa</td><td>2.7</td><td>23</td></tr>\n",
              "</tbody>\n",
              "</table>\n"
            ],
            "text/markdown": "\nA data.frame: 2 × 4\n\n| Idade &lt;dbl&gt; | Nacionalidade &lt;chr&gt; | Renda &lt;dbl&gt; | Experiência &lt;dbl&gt; |\n|---|---|---|---|\n| 34 | Inglesa | 1.6 |  8 |\n| 44 | Inglesa | 2.7 | 23 |\n\n",
            "text/latex": "A data.frame: 2 × 4\n\\begin{tabular}{llll}\n Idade & Nacionalidade & Renda & Experiência\\\\\n <dbl> & <chr> & <dbl> & <dbl>\\\\\n\\hline\n\t 34 & Inglesa & 1.6 &  8\\\\\n\t 44 & Inglesa & 2.7 & 23\\\\\n\\end{tabular}\n",
            "text/plain": [
              "  Idade Nacionalidade Renda Experiência\n",
              "1 34    Inglesa       1.6    8         \n",
              "2 44    Inglesa       2.7   23         "
            ]
          },
          "metadata": {}
        },
        {
          "output_type": "display_data",
          "data": {
            "text/html": [
              "39"
            ],
            "text/markdown": "39",
            "text/latex": "39",
            "text/plain": [
              "[1] 39"
            ]
          },
          "metadata": {}
        }
      ]
    }
  ]
}
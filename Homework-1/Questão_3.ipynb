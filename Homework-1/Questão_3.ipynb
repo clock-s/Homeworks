{
  "nbformat": 4,
  "nbformat_minor": 0,
  "metadata": {
    "colab": {
      "provenance": [],
      "authorship_tag": "ABX9TyMwnnx68S9VuI/7Wm9m/v52",
      "include_colab_link": true
    },
    "kernelspec": {
      "name": "ir",
      "display_name": "R"
    },
    "language_info": {
      "name": "R"
    }
  },
  "cells": [
    {
      "cell_type": "markdown",
      "metadata": {
        "id": "view-in-github",
        "colab_type": "text"
      },
      "source": [
        "<a href=\"https://colab.research.google.com/github/clock-s/Homeworks/blob/main/Homework-1/Quest%C3%A3o_3.ipynb\" target=\"_parent\"><img src=\"https://colab.research.google.com/assets/colab-badge.svg\" alt=\"Open In Colab\"/></a>"
      ]
    },
    {
      "cell_type": "code",
      "source": [
        "install.packages(\"aplpack\")\n",
        "install.packages(\"qcc\")\n",
        "install.packages(\"ggplot2\")\n",
        "install.packages(\"dplyr\")\n",
        "\n",
        "library(aplpack)\n",
        "library(qcc)\n",
        "library(ggplot2)\n",
        "library(dplyr)\n"
      ],
      "metadata": {
        "colab": {
          "base_uri": "https://localhost:8080/"
        },
        "id": "QTHZxNrOb5Oz",
        "outputId": "6068fc87-d25c-46e7-ce82-0a4cf836afb7"
      },
      "execution_count": 1,
      "outputs": [
        {
          "output_type": "stream",
          "name": "stderr",
          "text": [
            "Installing package into ‘/usr/local/lib/R/site-library’\n",
            "(as ‘lib’ is unspecified)\n",
            "\n",
            "Installing package into ‘/usr/local/lib/R/site-library’\n",
            "(as ‘lib’ is unspecified)\n",
            "\n",
            "Installing package into ‘/usr/local/lib/R/site-library’\n",
            "(as ‘lib’ is unspecified)\n",
            "\n",
            "Installing package into ‘/usr/local/lib/R/site-library’\n",
            "(as ‘lib’ is unspecified)\n",
            "\n",
            "Warning message:\n",
            "“no DISPLAY variable so Tk is not available”\n",
            "Package 'qcc' version 2.7\n",
            "\n",
            "Type 'citation(\"qcc\")' for citing this R package in publications.\n",
            "\n",
            "\n",
            "Attaching package: ‘dplyr’\n",
            "\n",
            "\n",
            "The following objects are masked from ‘package:stats’:\n",
            "\n",
            "    filter, lag\n",
            "\n",
            "\n",
            "The following objects are masked from ‘package:base’:\n",
            "\n",
            "    intersect, setdiff, setequal, union\n",
            "\n",
            "\n"
          ]
        }
      ]
    },
    {
      "cell_type": "markdown",
      "source": [
        "# **Questão 3**"
      ],
      "metadata": {
        "id": "Pvk1xQKwZ7ws"
      }
    },
    {
      "cell_type": "markdown",
      "source": [
        "\n",
        "\n",
        "---\n",
        "\n",
        "O conjunto de dados em anexo, HW1_bike_sharing.csv3, refere-se ao processo de com-\n",
        "partilhamento de bicicletas em uma cidade dos Estados Unidos. O conjunto contém as\n",
        "colunas descritas na Tabela 3. A variável season inclui as quatro estações do hemisfério\n",
        "norte: primavera, verão, outono e inverno. A variável weathersit representa quatro con-\n",
        "dições meteorológicas: ‘Céu limpo’, ‘Nublado’, ‘Chuva fraca’, ‘Chuva forte’. A variável\n",
        "temp é a temperatura normalizada em graus Celsius, ou seja, os valores foram divididos\n",
        "por 41 (valor máximo)"
      ],
      "metadata": {
        "id": "QqO_qYjQa9S-"
      }
    },
    {
      "cell_type": "markdown",
      "source": [
        "## **Parte 1**"
      ],
      "metadata": {
        "id": "CA0PglcjbAvU"
      }
    },
    {
      "cell_type": "markdown",
      "source": [
        "\n",
        "\n",
        "---\n",
        "\n",
        "\n",
        "Carregue o conjunto de dados HW1_bike_sharing.csv no R. Classifique as variáveis\n",
        "quanto ao tipo (categórica ou numérica), identifique o número total de observações\n",
        "e as datas de início e fim da amostra"
      ],
      "metadata": {
        "id": "fALH2xnabEKZ"
      }
    },
    {
      "cell_type": "code",
      "source": [
        "#Carregando a tabela\n",
        "\n",
        "tabela <- read.csv(\"sample_data/HW1_bike_sharing.csv\")\n",
        "\n",
        "tabela"
      ],
      "metadata": {
        "colab": {
          "base_uri": "https://localhost:8080/",
          "height": 1000
        },
        "id": "-H01SMgsbwMr",
        "outputId": "b85a2801-f345-4337-8a61-576f66e2570f"
      },
      "execution_count": 4,
      "outputs": [
        {
          "output_type": "display_data",
          "data": {
            "text/html": [
              "<table class=\"dataframe\">\n",
              "<caption>A data.frame: 731 × 8</caption>\n",
              "<thead>\n",
              "\t<tr><th scope=col>X</th><th scope=col>instant</th><th scope=col>dteday</th><th scope=col>season</th><th scope=col>weathersit</th><th scope=col>temp</th><th scope=col>casual</th><th scope=col>registered</th></tr>\n",
              "\t<tr><th scope=col>&lt;int&gt;</th><th scope=col>&lt;int&gt;</th><th scope=col>&lt;chr&gt;</th><th scope=col>&lt;int&gt;</th><th scope=col>&lt;int&gt;</th><th scope=col>&lt;dbl&gt;</th><th scope=col>&lt;int&gt;</th><th scope=col>&lt;int&gt;</th></tr>\n",
              "</thead>\n",
              "<tbody>\n",
              "\t<tr><td> 1</td><td> 1</td><td>2011-01-01</td><td>1</td><td>2</td><td>14.1</td><td>331</td><td> 654</td></tr>\n",
              "\t<tr><td> 2</td><td> 2</td><td>2011-01-02</td><td>1</td><td>2</td><td>14.9</td><td>131</td><td> 670</td></tr>\n",
              "\t<tr><td> 3</td><td> 3</td><td>2011-01-03</td><td>1</td><td>1</td><td> 8.1</td><td>120</td><td>1229</td></tr>\n",
              "\t<tr><td> 4</td><td> 4</td><td>2011-01-04</td><td>1</td><td>1</td><td> 8.2</td><td>108</td><td>1454</td></tr>\n",
              "\t<tr><td> 5</td><td> 5</td><td>2011-01-05</td><td>1</td><td>1</td><td> 9.3</td><td> 82</td><td>1518</td></tr>\n",
              "\t<tr><td> 6</td><td> 6</td><td>2011-01-06</td><td>1</td><td>1</td><td> 8.4</td><td> 88</td><td>1518</td></tr>\n",
              "\t<tr><td> 7</td><td> 7</td><td>2011-01-07</td><td>1</td><td>2</td><td> 8.1</td><td>148</td><td>1362</td></tr>\n",
              "\t<tr><td> 8</td><td> 8</td><td>2011-01-08</td><td>1</td><td>2</td><td> 6.8</td><td> 68</td><td> 891</td></tr>\n",
              "\t<tr><td> 9</td><td> 9</td><td>2011-01-09</td><td>1</td><td>1</td><td> 5.7</td><td> 54</td><td> 768</td></tr>\n",
              "\t<tr><td>10</td><td>10</td><td>2011-01-10</td><td>1</td><td>1</td><td> 6.2</td><td> 41</td><td>1280</td></tr>\n",
              "\t<tr><td>11</td><td>11</td><td>2011-01-11</td><td>1</td><td>2</td><td> 6.9</td><td> 43</td><td>1220</td></tr>\n",
              "\t<tr><td>12</td><td>12</td><td>2011-01-12</td><td>1</td><td>1</td><td> 7.1</td><td> 25</td><td>1137</td></tr>\n",
              "\t<tr><td>13</td><td>13</td><td>2011-01-13</td><td>1</td><td>1</td><td> 6.8</td><td> 38</td><td>1368</td></tr>\n",
              "\t<tr><td>14</td><td>14</td><td>2011-01-14</td><td>1</td><td>1</td><td> 6.6</td><td> 54</td><td>1367</td></tr>\n",
              "\t<tr><td>15</td><td>15</td><td>2011-01-15</td><td>1</td><td>2</td><td> 9.6</td><td>222</td><td>1026</td></tr>\n",
              "\t<tr><td>16</td><td>16</td><td>2011-01-16</td><td>1</td><td>1</td><td> 9.5</td><td>251</td><td> 953</td></tr>\n",
              "\t<tr><td>17</td><td>17</td><td>2011-01-17</td><td>1</td><td>2</td><td> 7.2</td><td>117</td><td> 883</td></tr>\n",
              "\t<tr><td>18</td><td>18</td><td>2011-01-18</td><td>1</td><td>2</td><td> 8.9</td><td>  9</td><td> 674</td></tr>\n",
              "\t<tr><td>19</td><td>19</td><td>2011-01-19</td><td>1</td><td>2</td><td>12.0</td><td> 78</td><td>1572</td></tr>\n",
              "\t<tr><td>20</td><td>20</td><td>2011-01-20</td><td>1</td><td>2</td><td>10.7</td><td> 83</td><td>1844</td></tr>\n",
              "\t<tr><td>21</td><td>21</td><td>2011-01-21</td><td>1</td><td>1</td><td> 7.3</td><td> 75</td><td>1468</td></tr>\n",
              "\t<tr><td>22</td><td>22</td><td>2011-01-22</td><td>1</td><td>1</td><td> 2.4</td><td> 93</td><td> 888</td></tr>\n",
              "\t<tr><td>23</td><td>23</td><td>2011-01-23</td><td>1</td><td>1</td><td> 4.0</td><td>150</td><td> 836</td></tr>\n",
              "\t<tr><td>24</td><td>24</td><td>2011-01-24</td><td>1</td><td>1</td><td> 4.0</td><td> 86</td><td>1330</td></tr>\n",
              "\t<tr><td>25</td><td>25</td><td>2011-01-25</td><td>1</td><td>2</td><td> 9.2</td><td>186</td><td>1799</td></tr>\n",
              "\t<tr><td>26</td><td>26</td><td>2011-01-26</td><td>1</td><td>3</td><td> 8.9</td><td> 34</td><td> 472</td></tr>\n",
              "\t<tr><td>27</td><td>27</td><td>2011-01-27</td><td>1</td><td>1</td><td> 8.0</td><td> 15</td><td> 416</td></tr>\n",
              "\t<tr><td>28</td><td>28</td><td>2011-01-28</td><td>1</td><td>2</td><td> 8.3</td><td> 38</td><td>1129</td></tr>\n",
              "\t<tr><td>29</td><td>29</td><td>2011-01-29</td><td>1</td><td>1</td><td> 8.1</td><td>123</td><td> 975</td></tr>\n",
              "\t<tr><td>30</td><td>30</td><td>2011-01-30</td><td>1</td><td>1</td><td> 8.9</td><td>140</td><td> 956</td></tr>\n",
              "\t<tr><td>⋮</td><td>⋮</td><td>⋮</td><td>⋮</td><td>⋮</td><td>⋮</td><td>⋮</td><td>⋮</td></tr>\n",
              "\t<tr><td>702</td><td>702</td><td>2012-12-02</td><td>4</td><td>2</td><td>14.2</td><td> 892</td><td>3757</td></tr>\n",
              "\t<tr><td>703</td><td>703</td><td>2012-12-03</td><td>4</td><td>1</td><td>18.6</td><td> 555</td><td>5679</td></tr>\n",
              "\t<tr><td>704</td><td>704</td><td>2012-12-04</td><td>4</td><td>1</td><td>19.5</td><td> 551</td><td>6055</td></tr>\n",
              "\t<tr><td>705</td><td>705</td><td>2012-12-05</td><td>4</td><td>1</td><td>18.0</td><td> 331</td><td>5398</td></tr>\n",
              "\t<tr><td>706</td><td>706</td><td>2012-12-06</td><td>4</td><td>1</td><td>10.5</td><td> 340</td><td>5035</td></tr>\n",
              "\t<tr><td>707</td><td>707</td><td>2012-12-07</td><td>4</td><td>2</td><td>13.2</td><td> 349</td><td>4659</td></tr>\n",
              "\t<tr><td>708</td><td>708</td><td>2012-12-08</td><td>4</td><td>2</td><td>15.6</td><td>1153</td><td>4429</td></tr>\n",
              "\t<tr><td>709</td><td>709</td><td>2012-12-09</td><td>4</td><td>2</td><td>15.8</td><td> 441</td><td>2787</td></tr>\n",
              "\t<tr><td>710</td><td>710</td><td>2012-12-10</td><td>4</td><td>2</td><td>17.9</td><td> 329</td><td>4841</td></tr>\n",
              "\t<tr><td>711</td><td>711</td><td>2012-12-11</td><td>4</td><td>2</td><td>14.5</td><td> 282</td><td>5219</td></tr>\n",
              "\t<tr><td>712</td><td>712</td><td>2012-12-12</td><td>4</td><td>2</td><td>12.2</td><td> 310</td><td>5009</td></tr>\n",
              "\t<tr><td>713</td><td>713</td><td>2012-12-13</td><td>4</td><td>1</td><td>12.1</td><td> 425</td><td>5107</td></tr>\n",
              "\t<tr><td>714</td><td>714</td><td>2012-12-14</td><td>4</td><td>1</td><td>11.5</td><td> 429</td><td>5182</td></tr>\n",
              "\t<tr><td>715</td><td>715</td><td>2012-12-15</td><td>4</td><td>1</td><td>13.3</td><td> 767</td><td>4280</td></tr>\n",
              "\t<tr><td>716</td><td>716</td><td>2012-12-16</td><td>4</td><td>2</td><td>14.9</td><td> 538</td><td>3248</td></tr>\n",
              "\t<tr><td>717</td><td>717</td><td>2012-12-17</td><td>4</td><td>2</td><td>16.1</td><td> 212</td><td>4373</td></tr>\n",
              "\t<tr><td>718</td><td>718</td><td>2012-12-18</td><td>4</td><td>1</td><td>16.8</td><td> 433</td><td>5124</td></tr>\n",
              "\t<tr><td>719</td><td>719</td><td>2012-12-19</td><td>4</td><td>1</td><td>13.6</td><td> 333</td><td>4934</td></tr>\n",
              "\t<tr><td>720</td><td>720</td><td>2012-12-20</td><td>4</td><td>2</td><td>13.5</td><td> 314</td><td>3814</td></tr>\n",
              "\t<tr><td>721</td><td>721</td><td>2012-12-21</td><td>1</td><td>2</td><td>13.4</td><td> 221</td><td>3402</td></tr>\n",
              "\t<tr><td>722</td><td>722</td><td>2012-12-22</td><td>1</td><td>1</td><td>10.9</td><td> 205</td><td>1544</td></tr>\n",
              "\t<tr><td>723</td><td>723</td><td>2012-12-23</td><td>1</td><td>1</td><td>10.1</td><td> 408</td><td>1379</td></tr>\n",
              "\t<tr><td>724</td><td>724</td><td>2012-12-24</td><td>1</td><td>2</td><td> 9.5</td><td> 174</td><td> 746</td></tr>\n",
              "\t<tr><td>725</td><td>725</td><td>2012-12-25</td><td>1</td><td>2</td><td>11.9</td><td> 440</td><td> 573</td></tr>\n",
              "\t<tr><td>726</td><td>726</td><td>2012-12-26</td><td>1</td><td>3</td><td>10.0</td><td>   9</td><td> 432</td></tr>\n",
              "\t<tr><td>727</td><td>727</td><td>2012-12-27</td><td>1</td><td>2</td><td>10.4</td><td> 247</td><td>1867</td></tr>\n",
              "\t<tr><td>728</td><td>728</td><td>2012-12-28</td><td>1</td><td>2</td><td>10.4</td><td> 644</td><td>2451</td></tr>\n",
              "\t<tr><td>729</td><td>729</td><td>2012-12-29</td><td>1</td><td>2</td><td>10.4</td><td> 159</td><td>1182</td></tr>\n",
              "\t<tr><td>730</td><td>730</td><td>2012-12-30</td><td>1</td><td>1</td><td>10.5</td><td> 364</td><td>1432</td></tr>\n",
              "\t<tr><td>731</td><td>731</td><td>2012-12-31</td><td>1</td><td>2</td><td> 8.8</td><td> 439</td><td>2290</td></tr>\n",
              "</tbody>\n",
              "</table>\n"
            ],
            "text/markdown": "\nA data.frame: 731 × 8\n\n| X &lt;int&gt; | instant &lt;int&gt; | dteday &lt;chr&gt; | season &lt;int&gt; | weathersit &lt;int&gt; | temp &lt;dbl&gt; | casual &lt;int&gt; | registered &lt;int&gt; |\n|---|---|---|---|---|---|---|---|\n|  1 |  1 | 2011-01-01 | 1 | 2 | 14.1 | 331 |  654 |\n|  2 |  2 | 2011-01-02 | 1 | 2 | 14.9 | 131 |  670 |\n|  3 |  3 | 2011-01-03 | 1 | 1 |  8.1 | 120 | 1229 |\n|  4 |  4 | 2011-01-04 | 1 | 1 |  8.2 | 108 | 1454 |\n|  5 |  5 | 2011-01-05 | 1 | 1 |  9.3 |  82 | 1518 |\n|  6 |  6 | 2011-01-06 | 1 | 1 |  8.4 |  88 | 1518 |\n|  7 |  7 | 2011-01-07 | 1 | 2 |  8.1 | 148 | 1362 |\n|  8 |  8 | 2011-01-08 | 1 | 2 |  6.8 |  68 |  891 |\n|  9 |  9 | 2011-01-09 | 1 | 1 |  5.7 |  54 |  768 |\n| 10 | 10 | 2011-01-10 | 1 | 1 |  6.2 |  41 | 1280 |\n| 11 | 11 | 2011-01-11 | 1 | 2 |  6.9 |  43 | 1220 |\n| 12 | 12 | 2011-01-12 | 1 | 1 |  7.1 |  25 | 1137 |\n| 13 | 13 | 2011-01-13 | 1 | 1 |  6.8 |  38 | 1368 |\n| 14 | 14 | 2011-01-14 | 1 | 1 |  6.6 |  54 | 1367 |\n| 15 | 15 | 2011-01-15 | 1 | 2 |  9.6 | 222 | 1026 |\n| 16 | 16 | 2011-01-16 | 1 | 1 |  9.5 | 251 |  953 |\n| 17 | 17 | 2011-01-17 | 1 | 2 |  7.2 | 117 |  883 |\n| 18 | 18 | 2011-01-18 | 1 | 2 |  8.9 |   9 |  674 |\n| 19 | 19 | 2011-01-19 | 1 | 2 | 12.0 |  78 | 1572 |\n| 20 | 20 | 2011-01-20 | 1 | 2 | 10.7 |  83 | 1844 |\n| 21 | 21 | 2011-01-21 | 1 | 1 |  7.3 |  75 | 1468 |\n| 22 | 22 | 2011-01-22 | 1 | 1 |  2.4 |  93 |  888 |\n| 23 | 23 | 2011-01-23 | 1 | 1 |  4.0 | 150 |  836 |\n| 24 | 24 | 2011-01-24 | 1 | 1 |  4.0 |  86 | 1330 |\n| 25 | 25 | 2011-01-25 | 1 | 2 |  9.2 | 186 | 1799 |\n| 26 | 26 | 2011-01-26 | 1 | 3 |  8.9 |  34 |  472 |\n| 27 | 27 | 2011-01-27 | 1 | 1 |  8.0 |  15 |  416 |\n| 28 | 28 | 2011-01-28 | 1 | 2 |  8.3 |  38 | 1129 |\n| 29 | 29 | 2011-01-29 | 1 | 1 |  8.1 | 123 |  975 |\n| 30 | 30 | 2011-01-30 | 1 | 1 |  8.9 | 140 |  956 |\n| ⋮ | ⋮ | ⋮ | ⋮ | ⋮ | ⋮ | ⋮ | ⋮ |\n| 702 | 702 | 2012-12-02 | 4 | 2 | 14.2 |  892 | 3757 |\n| 703 | 703 | 2012-12-03 | 4 | 1 | 18.6 |  555 | 5679 |\n| 704 | 704 | 2012-12-04 | 4 | 1 | 19.5 |  551 | 6055 |\n| 705 | 705 | 2012-12-05 | 4 | 1 | 18.0 |  331 | 5398 |\n| 706 | 706 | 2012-12-06 | 4 | 1 | 10.5 |  340 | 5035 |\n| 707 | 707 | 2012-12-07 | 4 | 2 | 13.2 |  349 | 4659 |\n| 708 | 708 | 2012-12-08 | 4 | 2 | 15.6 | 1153 | 4429 |\n| 709 | 709 | 2012-12-09 | 4 | 2 | 15.8 |  441 | 2787 |\n| 710 | 710 | 2012-12-10 | 4 | 2 | 17.9 |  329 | 4841 |\n| 711 | 711 | 2012-12-11 | 4 | 2 | 14.5 |  282 | 5219 |\n| 712 | 712 | 2012-12-12 | 4 | 2 | 12.2 |  310 | 5009 |\n| 713 | 713 | 2012-12-13 | 4 | 1 | 12.1 |  425 | 5107 |\n| 714 | 714 | 2012-12-14 | 4 | 1 | 11.5 |  429 | 5182 |\n| 715 | 715 | 2012-12-15 | 4 | 1 | 13.3 |  767 | 4280 |\n| 716 | 716 | 2012-12-16 | 4 | 2 | 14.9 |  538 | 3248 |\n| 717 | 717 | 2012-12-17 | 4 | 2 | 16.1 |  212 | 4373 |\n| 718 | 718 | 2012-12-18 | 4 | 1 | 16.8 |  433 | 5124 |\n| 719 | 719 | 2012-12-19 | 4 | 1 | 13.6 |  333 | 4934 |\n| 720 | 720 | 2012-12-20 | 4 | 2 | 13.5 |  314 | 3814 |\n| 721 | 721 | 2012-12-21 | 1 | 2 | 13.4 |  221 | 3402 |\n| 722 | 722 | 2012-12-22 | 1 | 1 | 10.9 |  205 | 1544 |\n| 723 | 723 | 2012-12-23 | 1 | 1 | 10.1 |  408 | 1379 |\n| 724 | 724 | 2012-12-24 | 1 | 2 |  9.5 |  174 |  746 |\n| 725 | 725 | 2012-12-25 | 1 | 2 | 11.9 |  440 |  573 |\n| 726 | 726 | 2012-12-26 | 1 | 3 | 10.0 |    9 |  432 |\n| 727 | 727 | 2012-12-27 | 1 | 2 | 10.4 |  247 | 1867 |\n| 728 | 728 | 2012-12-28 | 1 | 2 | 10.4 |  644 | 2451 |\n| 729 | 729 | 2012-12-29 | 1 | 2 | 10.4 |  159 | 1182 |\n| 730 | 730 | 2012-12-30 | 1 | 1 | 10.5 |  364 | 1432 |\n| 731 | 731 | 2012-12-31 | 1 | 2 |  8.8 |  439 | 2290 |\n\n",
            "text/latex": "A data.frame: 731 × 8\n\\begin{tabular}{llllllll}\n X & instant & dteday & season & weathersit & temp & casual & registered\\\\\n <int> & <int> & <chr> & <int> & <int> & <dbl> & <int> & <int>\\\\\n\\hline\n\t  1 &  1 & 2011-01-01 & 1 & 2 & 14.1 & 331 &  654\\\\\n\t  2 &  2 & 2011-01-02 & 1 & 2 & 14.9 & 131 &  670\\\\\n\t  3 &  3 & 2011-01-03 & 1 & 1 &  8.1 & 120 & 1229\\\\\n\t  4 &  4 & 2011-01-04 & 1 & 1 &  8.2 & 108 & 1454\\\\\n\t  5 &  5 & 2011-01-05 & 1 & 1 &  9.3 &  82 & 1518\\\\\n\t  6 &  6 & 2011-01-06 & 1 & 1 &  8.4 &  88 & 1518\\\\\n\t  7 &  7 & 2011-01-07 & 1 & 2 &  8.1 & 148 & 1362\\\\\n\t  8 &  8 & 2011-01-08 & 1 & 2 &  6.8 &  68 &  891\\\\\n\t  9 &  9 & 2011-01-09 & 1 & 1 &  5.7 &  54 &  768\\\\\n\t 10 & 10 & 2011-01-10 & 1 & 1 &  6.2 &  41 & 1280\\\\\n\t 11 & 11 & 2011-01-11 & 1 & 2 &  6.9 &  43 & 1220\\\\\n\t 12 & 12 & 2011-01-12 & 1 & 1 &  7.1 &  25 & 1137\\\\\n\t 13 & 13 & 2011-01-13 & 1 & 1 &  6.8 &  38 & 1368\\\\\n\t 14 & 14 & 2011-01-14 & 1 & 1 &  6.6 &  54 & 1367\\\\\n\t 15 & 15 & 2011-01-15 & 1 & 2 &  9.6 & 222 & 1026\\\\\n\t 16 & 16 & 2011-01-16 & 1 & 1 &  9.5 & 251 &  953\\\\\n\t 17 & 17 & 2011-01-17 & 1 & 2 &  7.2 & 117 &  883\\\\\n\t 18 & 18 & 2011-01-18 & 1 & 2 &  8.9 &   9 &  674\\\\\n\t 19 & 19 & 2011-01-19 & 1 & 2 & 12.0 &  78 & 1572\\\\\n\t 20 & 20 & 2011-01-20 & 1 & 2 & 10.7 &  83 & 1844\\\\\n\t 21 & 21 & 2011-01-21 & 1 & 1 &  7.3 &  75 & 1468\\\\\n\t 22 & 22 & 2011-01-22 & 1 & 1 &  2.4 &  93 &  888\\\\\n\t 23 & 23 & 2011-01-23 & 1 & 1 &  4.0 & 150 &  836\\\\\n\t 24 & 24 & 2011-01-24 & 1 & 1 &  4.0 &  86 & 1330\\\\\n\t 25 & 25 & 2011-01-25 & 1 & 2 &  9.2 & 186 & 1799\\\\\n\t 26 & 26 & 2011-01-26 & 1 & 3 &  8.9 &  34 &  472\\\\\n\t 27 & 27 & 2011-01-27 & 1 & 1 &  8.0 &  15 &  416\\\\\n\t 28 & 28 & 2011-01-28 & 1 & 2 &  8.3 &  38 & 1129\\\\\n\t 29 & 29 & 2011-01-29 & 1 & 1 &  8.1 & 123 &  975\\\\\n\t 30 & 30 & 2011-01-30 & 1 & 1 &  8.9 & 140 &  956\\\\\n\t ⋮ & ⋮ & ⋮ & ⋮ & ⋮ & ⋮ & ⋮ & ⋮\\\\\n\t 702 & 702 & 2012-12-02 & 4 & 2 & 14.2 &  892 & 3757\\\\\n\t 703 & 703 & 2012-12-03 & 4 & 1 & 18.6 &  555 & 5679\\\\\n\t 704 & 704 & 2012-12-04 & 4 & 1 & 19.5 &  551 & 6055\\\\\n\t 705 & 705 & 2012-12-05 & 4 & 1 & 18.0 &  331 & 5398\\\\\n\t 706 & 706 & 2012-12-06 & 4 & 1 & 10.5 &  340 & 5035\\\\\n\t 707 & 707 & 2012-12-07 & 4 & 2 & 13.2 &  349 & 4659\\\\\n\t 708 & 708 & 2012-12-08 & 4 & 2 & 15.6 & 1153 & 4429\\\\\n\t 709 & 709 & 2012-12-09 & 4 & 2 & 15.8 &  441 & 2787\\\\\n\t 710 & 710 & 2012-12-10 & 4 & 2 & 17.9 &  329 & 4841\\\\\n\t 711 & 711 & 2012-12-11 & 4 & 2 & 14.5 &  282 & 5219\\\\\n\t 712 & 712 & 2012-12-12 & 4 & 2 & 12.2 &  310 & 5009\\\\\n\t 713 & 713 & 2012-12-13 & 4 & 1 & 12.1 &  425 & 5107\\\\\n\t 714 & 714 & 2012-12-14 & 4 & 1 & 11.5 &  429 & 5182\\\\\n\t 715 & 715 & 2012-12-15 & 4 & 1 & 13.3 &  767 & 4280\\\\\n\t 716 & 716 & 2012-12-16 & 4 & 2 & 14.9 &  538 & 3248\\\\\n\t 717 & 717 & 2012-12-17 & 4 & 2 & 16.1 &  212 & 4373\\\\\n\t 718 & 718 & 2012-12-18 & 4 & 1 & 16.8 &  433 & 5124\\\\\n\t 719 & 719 & 2012-12-19 & 4 & 1 & 13.6 &  333 & 4934\\\\\n\t 720 & 720 & 2012-12-20 & 4 & 2 & 13.5 &  314 & 3814\\\\\n\t 721 & 721 & 2012-12-21 & 1 & 2 & 13.4 &  221 & 3402\\\\\n\t 722 & 722 & 2012-12-22 & 1 & 1 & 10.9 &  205 & 1544\\\\\n\t 723 & 723 & 2012-12-23 & 1 & 1 & 10.1 &  408 & 1379\\\\\n\t 724 & 724 & 2012-12-24 & 1 & 2 &  9.5 &  174 &  746\\\\\n\t 725 & 725 & 2012-12-25 & 1 & 2 & 11.9 &  440 &  573\\\\\n\t 726 & 726 & 2012-12-26 & 1 & 3 & 10.0 &    9 &  432\\\\\n\t 727 & 727 & 2012-12-27 & 1 & 2 & 10.4 &  247 & 1867\\\\\n\t 728 & 728 & 2012-12-28 & 1 & 2 & 10.4 &  644 & 2451\\\\\n\t 729 & 729 & 2012-12-29 & 1 & 2 & 10.4 &  159 & 1182\\\\\n\t 730 & 730 & 2012-12-30 & 1 & 1 & 10.5 &  364 & 1432\\\\\n\t 731 & 731 & 2012-12-31 & 1 & 2 &  8.8 &  439 & 2290\\\\\n\\end{tabular}\n",
            "text/plain": [
              "    X   instant dteday     season weathersit temp casual registered\n",
              "1    1   1      2011-01-01 1      2          14.1 331     654      \n",
              "2    2   2      2011-01-02 1      2          14.9 131     670      \n",
              "3    3   3      2011-01-03 1      1           8.1 120    1229      \n",
              "4    4   4      2011-01-04 1      1           8.2 108    1454      \n",
              "5    5   5      2011-01-05 1      1           9.3  82    1518      \n",
              "6    6   6      2011-01-06 1      1           8.4  88    1518      \n",
              "7    7   7      2011-01-07 1      2           8.1 148    1362      \n",
              "8    8   8      2011-01-08 1      2           6.8  68     891      \n",
              "9    9   9      2011-01-09 1      1           5.7  54     768      \n",
              "10  10  10      2011-01-10 1      1           6.2  41    1280      \n",
              "11  11  11      2011-01-11 1      2           6.9  43    1220      \n",
              "12  12  12      2011-01-12 1      1           7.1  25    1137      \n",
              "13  13  13      2011-01-13 1      1           6.8  38    1368      \n",
              "14  14  14      2011-01-14 1      1           6.6  54    1367      \n",
              "15  15  15      2011-01-15 1      2           9.6 222    1026      \n",
              "16  16  16      2011-01-16 1      1           9.5 251     953      \n",
              "17  17  17      2011-01-17 1      2           7.2 117     883      \n",
              "18  18  18      2011-01-18 1      2           8.9   9     674      \n",
              "19  19  19      2011-01-19 1      2          12.0  78    1572      \n",
              "20  20  20      2011-01-20 1      2          10.7  83    1844      \n",
              "21  21  21      2011-01-21 1      1           7.3  75    1468      \n",
              "22  22  22      2011-01-22 1      1           2.4  93     888      \n",
              "23  23  23      2011-01-23 1      1           4.0 150     836      \n",
              "24  24  24      2011-01-24 1      1           4.0  86    1330      \n",
              "25  25  25      2011-01-25 1      2           9.2 186    1799      \n",
              "26  26  26      2011-01-26 1      3           8.9  34     472      \n",
              "27  27  27      2011-01-27 1      1           8.0  15     416      \n",
              "28  28  28      2011-01-28 1      2           8.3  38    1129      \n",
              "29  29  29      2011-01-29 1      1           8.1 123     975      \n",
              "30  30  30      2011-01-30 1      1           8.9 140     956      \n",
              "⋮   ⋮   ⋮       ⋮          ⋮      ⋮          ⋮    ⋮      ⋮         \n",
              "702 702 702     2012-12-02 4      2          14.2  892   3757      \n",
              "703 703 703     2012-12-03 4      1          18.6  555   5679      \n",
              "704 704 704     2012-12-04 4      1          19.5  551   6055      \n",
              "705 705 705     2012-12-05 4      1          18.0  331   5398      \n",
              "706 706 706     2012-12-06 4      1          10.5  340   5035      \n",
              "707 707 707     2012-12-07 4      2          13.2  349   4659      \n",
              "708 708 708     2012-12-08 4      2          15.6 1153   4429      \n",
              "709 709 709     2012-12-09 4      2          15.8  441   2787      \n",
              "710 710 710     2012-12-10 4      2          17.9  329   4841      \n",
              "711 711 711     2012-12-11 4      2          14.5  282   5219      \n",
              "712 712 712     2012-12-12 4      2          12.2  310   5009      \n",
              "713 713 713     2012-12-13 4      1          12.1  425   5107      \n",
              "714 714 714     2012-12-14 4      1          11.5  429   5182      \n",
              "715 715 715     2012-12-15 4      1          13.3  767   4280      \n",
              "716 716 716     2012-12-16 4      2          14.9  538   3248      \n",
              "717 717 717     2012-12-17 4      2          16.1  212   4373      \n",
              "718 718 718     2012-12-18 4      1          16.8  433   5124      \n",
              "719 719 719     2012-12-19 4      1          13.6  333   4934      \n",
              "720 720 720     2012-12-20 4      2          13.5  314   3814      \n",
              "721 721 721     2012-12-21 1      2          13.4  221   3402      \n",
              "722 722 722     2012-12-22 1      1          10.9  205   1544      \n",
              "723 723 723     2012-12-23 1      1          10.1  408   1379      \n",
              "724 724 724     2012-12-24 1      2           9.5  174    746      \n",
              "725 725 725     2012-12-25 1      2          11.9  440    573      \n",
              "726 726 726     2012-12-26 1      3          10.0    9    432      \n",
              "727 727 727     2012-12-27 1      2          10.4  247   1867      \n",
              "728 728 728     2012-12-28 1      2          10.4  644   2451      \n",
              "729 729 729     2012-12-29 1      2          10.4  159   1182      \n",
              "730 730 730     2012-12-30 1      1          10.5  364   1432      \n",
              "731 731 731     2012-12-31 1      2           8.8  439   2290      "
            ]
          },
          "metadata": {}
        }
      ]
    },
    {
      "cell_type": "markdown",
      "source": [
        "\n",
        "\n",
        "*   Instante: Qualitativa ordenada, serve para enumerar/etiquetar cada amostra.\n",
        "*   Date day: Qualitativa ordenada, diz qual dia foi feita a observação, função semelhante à do instante, mas pode servir para agrupar amostras de mesmo período.\n",
        "*   Season: Qualitativa não ordenada, indica a estação do ano.\n",
        "*   Weathersit: Qualitativa ordenada, no caso, podemos descrever cada etiqueta como o quão próximo de chuver aquele amostra está.\n",
        "*   Temperatura: Quantitativa contínua, indica a temperatura da amostra.\n",
        "*   Casual: Quantitativa discreta, número de usuários casuais.\n",
        "*   Registered: Quantitativa discreta, número de usuários registrados.\n",
        "\n"
      ],
      "metadata": {
        "id": "jrB0AOPYdxy4"
      }
    },
    {
      "cell_type": "markdown",
      "source": [
        "## **Parte 2**"
      ],
      "metadata": {
        "id": "pUupQnx9bH4l"
      }
    },
    {
      "cell_type": "markdown",
      "source": [
        "\n",
        "\n",
        "---\n",
        "\n",
        "Calcule medidas de tendência central (média, mediana) e os quartis para cada ca-\n",
        "racterística numérica relevante. Apresente os resultados em uma tabela com título\n",
        "apropriado. Comente os principais pontos"
      ],
      "metadata": {
        "id": "eKadhnBnbLno"
      }
    },
    {
      "cell_type": "markdown",
      "source": [
        "## **Parte 3**"
      ],
      "metadata": {
        "id": "0ibIoQizbO69"
      }
    },
    {
      "cell_type": "markdown",
      "source": [
        "\n",
        "\n",
        "---\n",
        "\n",
        "Atribua os níveis correspondentes às variáveis season e weathersit. Construa gráficos\n",
        "de barras para ambas. Qual estação do ano apresenta maior número de usuários? O\n",
        "uso de bicicletas depende da estação? Qual é a condição climática mais favorável\n",
        "para o uso do sistema?"
      ],
      "metadata": {
        "id": "BJY_6xcfbRGK"
      }
    },
    {
      "cell_type": "markdown",
      "source": [
        "## **Parte 4**"
      ],
      "metadata": {
        "id": "xnmTngPNbTnF"
      }
    },
    {
      "cell_type": "markdown",
      "source": [
        "\n",
        "\n",
        "---\n",
        "\n",
        "Calcule o número total de usuários por dia, somando casual e registered. Converta\n",
        "a variável temp para temperatura real (multiplicando por 41). Em seguida, construa os\n",
        "gráficos de séries temporais para temperatura e número total de usuários. Essas séries\n",
        "apresentam tendência semelhante?"
      ],
      "metadata": {
        "id": "KGwZlDdIbaB0"
      }
    }
  ]
}